{
  "nbformat": 4,
  "nbformat_minor": 0,
  "metadata": {
    "colab": {
      "name": "Classification_bank-full.ipynb",
      "provenance": [],
      "collapsed_sections": []
    },
    "kernelspec": {
      "display_name": "Python 3",
      "name": "python3"
    },
    "language_info": {
      "name": "python"
    }
  },
  "cells": [
    {
      "cell_type": "markdown",
      "metadata": {
        "id": "pK1LsSl8EOu9"
      },
      "source": [
        "# **Mô tả đồ án:**\n",
        "Nhiệm vụ đồ án là phân tích dữ liệu chiến dịch tiếp thị của ngân hàng nhằm phân loại xem liệu khách hàng có đăng ký tài khoản tiền gửi có kỳ hạn hay không.<br />\n",
        "Các bước thực hiện gồm: <br />\n",
        " - Tổng hợp dữ liệu\n",
        " - Làm sạch dữ liệu\n",
        " - EDA\n",
        " - Mã hoá dữ liệu\n",
        " - Lựa chọn đặt trưng quan trọng\n",
        " - Scale các đặt trưng\n",
        " - Xây dựng mô hình\n",
        " - Đánh giá mô hình\n",
        "\n"
      ]
    },
    {
      "cell_type": "code",
      "metadata": {
        "id": "lCcgygvqLMQ6"
      },
      "source": [
        "import warnings\n",
        "warnings.filterwarnings('ignore')\n",
        "\n",
        "import numpy as np\n",
        "import pandas as pd\n",
        "import seaborn as sns\n",
        "import matplotlib.pyplot as plt\n",
        "%matplotlib inline\n",
        "from sklearn.model_selection import GridSearchCV\n",
        "from sklearn.preprocessing import MinMaxScaler"
      ],
      "execution_count": 8,
      "outputs": []
    },
    {
      "cell_type": "code",
      "metadata": {
        "colab": {
          "base_uri": "https://localhost:8080/"
        },
        "id": "lolt0rrFWWTx",
        "outputId": "e2166f67-08bf-4c00-f178-d4fcd245f1fd"
      },
      "source": [
        "from google.colab import drive\n",
        "drive.mount('/content/drive')"
      ],
      "execution_count": 9,
      "outputs": [
        {
          "output_type": "stream",
          "text": [
            "Drive already mounted at /content/drive; to attempt to forcibly remount, call drive.mount(\"/content/drive\", force_remount=True).\n"
          ],
          "name": "stdout"
        }
      ]
    },
    {
      "cell_type": "code",
      "metadata": {
        "id": "9Rq-0pBBU4dp"
      },
      "source": [
        "data = pd.read_csv('/content/drive/My Drive/Colab Notebooks/bank-full.csv', sep = ';')"
      ],
      "execution_count": 10,
      "outputs": []
    },
    {
      "cell_type": "markdown",
      "metadata": {
        "id": "Bv0hBps1w5l-"
      },
      "source": [
        "#**Tổng hợp dữ liệu**"
      ]
    },
    {
      "cell_type": "code",
      "metadata": {
        "colab": {
          "base_uri": "https://localhost:8080/",
          "height": 241
        },
        "id": "JU-0I1jQw4Cq",
        "outputId": "bd834100-0b19-434d-f944-ca2e0a3b8ab2"
      },
      "source": [
        "print(data.shape)\n",
        "data.head()"
      ],
      "execution_count": null,
      "outputs": [
        {
          "output_type": "stream",
          "text": [
            "(45211, 17)\n"
          ],
          "name": "stdout"
        },
        {
          "output_type": "execute_result",
          "data": {
            "text/html": [
              "<div>\n",
              "<style scoped>\n",
              "    .dataframe tbody tr th:only-of-type {\n",
              "        vertical-align: middle;\n",
              "    }\n",
              "\n",
              "    .dataframe tbody tr th {\n",
              "        vertical-align: top;\n",
              "    }\n",
              "\n",
              "    .dataframe thead th {\n",
              "        text-align: right;\n",
              "    }\n",
              "</style>\n",
              "<table border=\"1\" class=\"dataframe\">\n",
              "  <thead>\n",
              "    <tr style=\"text-align: right;\">\n",
              "      <th></th>\n",
              "      <th>age</th>\n",
              "      <th>job</th>\n",
              "      <th>marital</th>\n",
              "      <th>education</th>\n",
              "      <th>default</th>\n",
              "      <th>balance</th>\n",
              "      <th>housing</th>\n",
              "      <th>loan</th>\n",
              "      <th>contact</th>\n",
              "      <th>day</th>\n",
              "      <th>month</th>\n",
              "      <th>duration</th>\n",
              "      <th>campaign</th>\n",
              "      <th>pdays</th>\n",
              "      <th>previous</th>\n",
              "      <th>poutcome</th>\n",
              "      <th>y</th>\n",
              "    </tr>\n",
              "  </thead>\n",
              "  <tbody>\n",
              "    <tr>\n",
              "      <th>0</th>\n",
              "      <td>58</td>\n",
              "      <td>management</td>\n",
              "      <td>married</td>\n",
              "      <td>tertiary</td>\n",
              "      <td>no</td>\n",
              "      <td>2143</td>\n",
              "      <td>yes</td>\n",
              "      <td>no</td>\n",
              "      <td>unknown</td>\n",
              "      <td>5</td>\n",
              "      <td>may</td>\n",
              "      <td>261</td>\n",
              "      <td>1</td>\n",
              "      <td>-1</td>\n",
              "      <td>0</td>\n",
              "      <td>unknown</td>\n",
              "      <td>no</td>\n",
              "    </tr>\n",
              "    <tr>\n",
              "      <th>1</th>\n",
              "      <td>44</td>\n",
              "      <td>technician</td>\n",
              "      <td>single</td>\n",
              "      <td>secondary</td>\n",
              "      <td>no</td>\n",
              "      <td>29</td>\n",
              "      <td>yes</td>\n",
              "      <td>no</td>\n",
              "      <td>unknown</td>\n",
              "      <td>5</td>\n",
              "      <td>may</td>\n",
              "      <td>151</td>\n",
              "      <td>1</td>\n",
              "      <td>-1</td>\n",
              "      <td>0</td>\n",
              "      <td>unknown</td>\n",
              "      <td>no</td>\n",
              "    </tr>\n",
              "    <tr>\n",
              "      <th>2</th>\n",
              "      <td>33</td>\n",
              "      <td>entrepreneur</td>\n",
              "      <td>married</td>\n",
              "      <td>secondary</td>\n",
              "      <td>no</td>\n",
              "      <td>2</td>\n",
              "      <td>yes</td>\n",
              "      <td>yes</td>\n",
              "      <td>unknown</td>\n",
              "      <td>5</td>\n",
              "      <td>may</td>\n",
              "      <td>76</td>\n",
              "      <td>1</td>\n",
              "      <td>-1</td>\n",
              "      <td>0</td>\n",
              "      <td>unknown</td>\n",
              "      <td>no</td>\n",
              "    </tr>\n",
              "    <tr>\n",
              "      <th>3</th>\n",
              "      <td>47</td>\n",
              "      <td>blue-collar</td>\n",
              "      <td>married</td>\n",
              "      <td>unknown</td>\n",
              "      <td>no</td>\n",
              "      <td>1506</td>\n",
              "      <td>yes</td>\n",
              "      <td>no</td>\n",
              "      <td>unknown</td>\n",
              "      <td>5</td>\n",
              "      <td>may</td>\n",
              "      <td>92</td>\n",
              "      <td>1</td>\n",
              "      <td>-1</td>\n",
              "      <td>0</td>\n",
              "      <td>unknown</td>\n",
              "      <td>no</td>\n",
              "    </tr>\n",
              "    <tr>\n",
              "      <th>4</th>\n",
              "      <td>33</td>\n",
              "      <td>unknown</td>\n",
              "      <td>single</td>\n",
              "      <td>unknown</td>\n",
              "      <td>no</td>\n",
              "      <td>1</td>\n",
              "      <td>no</td>\n",
              "      <td>no</td>\n",
              "      <td>unknown</td>\n",
              "      <td>5</td>\n",
              "      <td>may</td>\n",
              "      <td>198</td>\n",
              "      <td>1</td>\n",
              "      <td>-1</td>\n",
              "      <td>0</td>\n",
              "      <td>unknown</td>\n",
              "      <td>no</td>\n",
              "    </tr>\n",
              "  </tbody>\n",
              "</table>\n",
              "</div>"
            ],
            "text/plain": [
              "   age           job  marital  education  ... pdays  previous poutcome   y\n",
              "0   58    management  married   tertiary  ...    -1         0  unknown  no\n",
              "1   44    technician   single  secondary  ...    -1         0  unknown  no\n",
              "2   33  entrepreneur  married  secondary  ...    -1         0  unknown  no\n",
              "3   47   blue-collar  married    unknown  ...    -1         0  unknown  no\n",
              "4   33       unknown   single    unknown  ...    -1         0  unknown  no\n",
              "\n",
              "[5 rows x 17 columns]"
            ]
          },
          "metadata": {
            "tags": []
          },
          "execution_count": 133
        }
      ]
    },
    {
      "cell_type": "code",
      "metadata": {
        "colab": {
          "base_uri": "https://localhost:8080/",
          "height": 317
        },
        "id": "cJtMiIW4wdlN",
        "outputId": "6fd8d800-f2c9-4786-c2d6-22e024936521"
      },
      "source": [
        "data.describe()"
      ],
      "execution_count": null,
      "outputs": [
        {
          "output_type": "execute_result",
          "data": {
            "text/html": [
              "<div>\n",
              "<style scoped>\n",
              "    .dataframe tbody tr th:only-of-type {\n",
              "        vertical-align: middle;\n",
              "    }\n",
              "\n",
              "    .dataframe tbody tr th {\n",
              "        vertical-align: top;\n",
              "    }\n",
              "\n",
              "    .dataframe thead th {\n",
              "        text-align: right;\n",
              "    }\n",
              "</style>\n",
              "<table border=\"1\" class=\"dataframe\">\n",
              "  <thead>\n",
              "    <tr style=\"text-align: right;\">\n",
              "      <th></th>\n",
              "      <th>age</th>\n",
              "      <th>balance</th>\n",
              "      <th>day</th>\n",
              "      <th>duration</th>\n",
              "      <th>campaign</th>\n",
              "      <th>pdays</th>\n",
              "      <th>previous</th>\n",
              "    </tr>\n",
              "  </thead>\n",
              "  <tbody>\n",
              "    <tr>\n",
              "      <th>count</th>\n",
              "      <td>45211.000000</td>\n",
              "      <td>45211.000000</td>\n",
              "      <td>45211.000000</td>\n",
              "      <td>45211.000000</td>\n",
              "      <td>45211.000000</td>\n",
              "      <td>45211.000000</td>\n",
              "      <td>45211.000000</td>\n",
              "    </tr>\n",
              "    <tr>\n",
              "      <th>mean</th>\n",
              "      <td>40.936210</td>\n",
              "      <td>1362.272058</td>\n",
              "      <td>15.806419</td>\n",
              "      <td>258.163080</td>\n",
              "      <td>2.763841</td>\n",
              "      <td>40.197828</td>\n",
              "      <td>0.580323</td>\n",
              "    </tr>\n",
              "    <tr>\n",
              "      <th>std</th>\n",
              "      <td>10.618762</td>\n",
              "      <td>3044.765829</td>\n",
              "      <td>8.322476</td>\n",
              "      <td>257.527812</td>\n",
              "      <td>3.098021</td>\n",
              "      <td>100.128746</td>\n",
              "      <td>2.303441</td>\n",
              "    </tr>\n",
              "    <tr>\n",
              "      <th>min</th>\n",
              "      <td>18.000000</td>\n",
              "      <td>-8019.000000</td>\n",
              "      <td>1.000000</td>\n",
              "      <td>0.000000</td>\n",
              "      <td>1.000000</td>\n",
              "      <td>-1.000000</td>\n",
              "      <td>0.000000</td>\n",
              "    </tr>\n",
              "    <tr>\n",
              "      <th>25%</th>\n",
              "      <td>33.000000</td>\n",
              "      <td>72.000000</td>\n",
              "      <td>8.000000</td>\n",
              "      <td>103.000000</td>\n",
              "      <td>1.000000</td>\n",
              "      <td>-1.000000</td>\n",
              "      <td>0.000000</td>\n",
              "    </tr>\n",
              "    <tr>\n",
              "      <th>50%</th>\n",
              "      <td>39.000000</td>\n",
              "      <td>448.000000</td>\n",
              "      <td>16.000000</td>\n",
              "      <td>180.000000</td>\n",
              "      <td>2.000000</td>\n",
              "      <td>-1.000000</td>\n",
              "      <td>0.000000</td>\n",
              "    </tr>\n",
              "    <tr>\n",
              "      <th>75%</th>\n",
              "      <td>48.000000</td>\n",
              "      <td>1428.000000</td>\n",
              "      <td>21.000000</td>\n",
              "      <td>319.000000</td>\n",
              "      <td>3.000000</td>\n",
              "      <td>-1.000000</td>\n",
              "      <td>0.000000</td>\n",
              "    </tr>\n",
              "    <tr>\n",
              "      <th>max</th>\n",
              "      <td>95.000000</td>\n",
              "      <td>102127.000000</td>\n",
              "      <td>31.000000</td>\n",
              "      <td>4918.000000</td>\n",
              "      <td>63.000000</td>\n",
              "      <td>871.000000</td>\n",
              "      <td>275.000000</td>\n",
              "    </tr>\n",
              "  </tbody>\n",
              "</table>\n",
              "</div>"
            ],
            "text/plain": [
              "                age        balance  ...         pdays      previous\n",
              "count  45211.000000   45211.000000  ...  45211.000000  45211.000000\n",
              "mean      40.936210    1362.272058  ...     40.197828      0.580323\n",
              "std       10.618762    3044.765829  ...    100.128746      2.303441\n",
              "min       18.000000   -8019.000000  ...     -1.000000      0.000000\n",
              "25%       33.000000      72.000000  ...     -1.000000      0.000000\n",
              "50%       39.000000     448.000000  ...     -1.000000      0.000000\n",
              "75%       48.000000    1428.000000  ...     -1.000000      0.000000\n",
              "max       95.000000  102127.000000  ...    871.000000    275.000000\n",
              "\n",
              "[8 rows x 7 columns]"
            ]
          },
          "metadata": {
            "tags": []
          },
          "execution_count": 134
        }
      ]
    },
    {
      "cell_type": "code",
      "metadata": {
        "colab": {
          "base_uri": "https://localhost:8080/"
        },
        "id": "dEapVijHw3I7",
        "outputId": "fb5574b1-d6a7-4b01-f673-2e7139a2ac58"
      },
      "source": [
        "data.info()"
      ],
      "execution_count": null,
      "outputs": [
        {
          "output_type": "stream",
          "text": [
            "<class 'pandas.core.frame.DataFrame'>\n",
            "RangeIndex: 45211 entries, 0 to 45210\n",
            "Data columns (total 17 columns):\n",
            " #   Column     Non-Null Count  Dtype \n",
            "---  ------     --------------  ----- \n",
            " 0   age        45211 non-null  int64 \n",
            " 1   job        45211 non-null  object\n",
            " 2   marital    45211 non-null  object\n",
            " 3   education  45211 non-null  object\n",
            " 4   default    45211 non-null  object\n",
            " 5   balance    45211 non-null  int64 \n",
            " 6   housing    45211 non-null  object\n",
            " 7   loan       45211 non-null  object\n",
            " 8   contact    45211 non-null  object\n",
            " 9   day        45211 non-null  int64 \n",
            " 10  month      45211 non-null  object\n",
            " 11  duration   45211 non-null  int64 \n",
            " 12  campaign   45211 non-null  int64 \n",
            " 13  pdays      45211 non-null  int64 \n",
            " 14  previous   45211 non-null  int64 \n",
            " 15  poutcome   45211 non-null  object\n",
            " 16  y          45211 non-null  object\n",
            "dtypes: int64(7), object(10)\n",
            "memory usage: 5.9+ MB\n"
          ],
          "name": "stdout"
        }
      ]
    },
    {
      "cell_type": "code",
      "metadata": {
        "colab": {
          "base_uri": "https://localhost:8080/"
        },
        "id": "Wp1Sc8U_LK11",
        "outputId": "a2461979-22e9-41b7-db29-287bc774ecb7"
      },
      "source": [
        "for column in data.columns:\n",
        "  print(column)\n",
        "  print(data[column].value_counts())"
      ],
      "execution_count": null,
      "outputs": [
        {
          "output_type": "stream",
          "text": [
            "age\n",
            "32    2085\n",
            "31    1996\n",
            "33    1972\n",
            "34    1930\n",
            "35    1894\n",
            "      ... \n",
            "90       2\n",
            "92       2\n",
            "93       2\n",
            "95       2\n",
            "94       1\n",
            "Name: age, Length: 77, dtype: int64\n",
            "job\n",
            "blue-collar      9732\n",
            "management       9458\n",
            "technician       7597\n",
            "admin.           5171\n",
            "services         4154\n",
            "retired          2264\n",
            "self-employed    1579\n",
            "entrepreneur     1487\n",
            "unemployed       1303\n",
            "housemaid        1240\n",
            "student           938\n",
            "unknown           288\n",
            "Name: job, dtype: int64\n",
            "marital\n",
            "married     27214\n",
            "single      12790\n",
            "divorced     5207\n",
            "Name: marital, dtype: int64\n",
            "education\n",
            "secondary    23202\n",
            "tertiary     13301\n",
            "primary       6851\n",
            "unknown       1857\n",
            "Name: education, dtype: int64\n",
            "default\n",
            "no     44396\n",
            "yes      815\n",
            "Name: default, dtype: int64\n",
            "balance\n",
            "0        3514\n",
            "1         195\n",
            "2         156\n",
            "4         139\n",
            "3         134\n",
            "         ... \n",
            "4305        1\n",
            "6352        1\n",
            "18881       1\n",
            "14889       1\n",
            "7218        1\n",
            "Name: balance, Length: 7168, dtype: int64\n",
            "housing\n",
            "yes    25130\n",
            "no     20081\n",
            "Name: housing, dtype: int64\n",
            "loan\n",
            "no     37967\n",
            "yes     7244\n",
            "Name: loan, dtype: int64\n",
            "contact\n",
            "cellular     29285\n",
            "unknown      13020\n",
            "telephone     2906\n",
            "Name: contact, dtype: int64\n",
            "day\n",
            "20    2752\n",
            "18    2308\n",
            "21    2026\n",
            "17    1939\n",
            "6     1932\n",
            "5     1910\n",
            "14    1848\n",
            "8     1842\n",
            "28    1830\n",
            "7     1817\n",
            "19    1757\n",
            "29    1745\n",
            "15    1703\n",
            "12    1603\n",
            "13    1585\n",
            "30    1566\n",
            "9     1561\n",
            "11    1479\n",
            "4     1445\n",
            "16    1415\n",
            "2     1293\n",
            "27    1121\n",
            "3     1079\n",
            "26    1035\n",
            "23     939\n",
            "22     905\n",
            "25     840\n",
            "31     643\n",
            "10     524\n",
            "24     447\n",
            "1      322\n",
            "Name: day, dtype: int64\n",
            "month\n",
            "may    13766\n",
            "jul     6895\n",
            "aug     6247\n",
            "jun     5341\n",
            "nov     3970\n",
            "apr     2932\n",
            "feb     2649\n",
            "jan     1403\n",
            "oct      738\n",
            "sep      579\n",
            "mar      477\n",
            "dec      214\n",
            "Name: month, dtype: int64\n",
            "duration\n",
            "124     188\n",
            "90      184\n",
            "89      177\n",
            "122     175\n",
            "104     175\n",
            "       ... \n",
            "2150      1\n",
            "1970      1\n",
            "1906      1\n",
            "1842      1\n",
            "2015      1\n",
            "Name: duration, Length: 1573, dtype: int64\n",
            "campaign\n",
            "1     17544\n",
            "2     12505\n",
            "3      5521\n",
            "4      3522\n",
            "5      1764\n",
            "6      1291\n",
            "7       735\n",
            "8       540\n",
            "9       327\n",
            "10      266\n",
            "11      201\n",
            "12      155\n",
            "13      133\n",
            "14       93\n",
            "15       84\n",
            "16       79\n",
            "17       69\n",
            "18       51\n",
            "19       44\n",
            "20       43\n",
            "21       35\n",
            "22       23\n",
            "23       22\n",
            "25       22\n",
            "24       20\n",
            "28       16\n",
            "29       16\n",
            "26       13\n",
            "31       12\n",
            "27       10\n",
            "32        9\n",
            "30        8\n",
            "33        6\n",
            "34        5\n",
            "36        4\n",
            "35        4\n",
            "43        3\n",
            "38        3\n",
            "41        2\n",
            "50        2\n",
            "37        2\n",
            "51        1\n",
            "55        1\n",
            "46        1\n",
            "58        1\n",
            "44        1\n",
            "39        1\n",
            "63        1\n",
            "Name: campaign, dtype: int64\n",
            "pdays\n",
            "-1      36954\n",
            " 182      167\n",
            " 92       147\n",
            " 183      126\n",
            " 91       126\n",
            "        ...  \n",
            " 749        1\n",
            " 717        1\n",
            " 589        1\n",
            " 493        1\n",
            " 32         1\n",
            "Name: pdays, Length: 559, dtype: int64\n",
            "previous\n",
            "0      36954\n",
            "1       2772\n",
            "2       2106\n",
            "3       1142\n",
            "4        714\n",
            "5        459\n",
            "6        277\n",
            "7        205\n",
            "8        129\n",
            "9         92\n",
            "10        67\n",
            "11        65\n",
            "12        44\n",
            "13        38\n",
            "15        20\n",
            "14        19\n",
            "17        15\n",
            "16        13\n",
            "19        11\n",
            "23         8\n",
            "20         8\n",
            "22         6\n",
            "18         6\n",
            "24         5\n",
            "27         5\n",
            "29         4\n",
            "25         4\n",
            "21         4\n",
            "30         3\n",
            "28         2\n",
            "26         2\n",
            "37         2\n",
            "38         2\n",
            "55         1\n",
            "40         1\n",
            "35         1\n",
            "58         1\n",
            "51         1\n",
            "41         1\n",
            "32         1\n",
            "275        1\n",
            "Name: previous, dtype: int64\n",
            "poutcome\n",
            "unknown    36959\n",
            "failure     4901\n",
            "other       1840\n",
            "success     1511\n",
            "Name: poutcome, dtype: int64\n",
            "y\n",
            "no     39922\n",
            "yes     5289\n",
            "Name: y, dtype: int64\n"
          ],
          "name": "stdout"
        }
      ]
    },
    {
      "cell_type": "markdown",
      "metadata": {
        "id": "4jFm4NJrRCm-"
      },
      "source": [
        "#**Làm sạch dữ liệu**"
      ]
    },
    {
      "cell_type": "code",
      "metadata": {
        "colab": {
          "base_uri": "https://localhost:8080/"
        },
        "id": "4pXJjVVvOakZ",
        "outputId": "8206585e-f272-42b5-b640-d71a150aee85"
      },
      "source": [
        "data.isnull().sum()*100/data.shape[0]"
      ],
      "execution_count": null,
      "outputs": [
        {
          "output_type": "execute_result",
          "data": {
            "text/plain": [
              "age          0.0\n",
              "job          0.0\n",
              "marital      0.0\n",
              "education    0.0\n",
              "default      0.0\n",
              "balance      0.0\n",
              "housing      0.0\n",
              "loan         0.0\n",
              "contact      0.0\n",
              "day          0.0\n",
              "month        0.0\n",
              "duration     0.0\n",
              "campaign     0.0\n",
              "pdays        0.0\n",
              "previous     0.0\n",
              "poutcome     0.0\n",
              "y            0.0\n",
              "dtype: float64"
            ]
          },
          "metadata": {
            "tags": []
          },
          "execution_count": 142
        }
      ]
    },
    {
      "cell_type": "markdown",
      "metadata": {
        "id": "vZY4sPe9-qHd"
      },
      "source": [
        "Ta có thể thấy, không có giá trị NA hay NAN trong tập dữ liệu. Tuy nhiên ở các biến job, education, contact, poutcome có giá trị Unknown và đặc biệt ở biến contact và poutcome biến Unknown chiếm tỉ lệ lớn."
      ]
    },
    {
      "cell_type": "markdown",
      "metadata": {
        "id": "DyxKFN1ARV60"
      },
      "source": [
        "#**EDA**"
      ]
    },
    {
      "cell_type": "markdown",
      "metadata": {
        "id": "_P29pDRLSyOz"
      },
      "source": [
        "## **Phân tích từng biến**"
      ]
    },
    {
      "cell_type": "markdown",
      "metadata": {
        "id": "2xeV0zxdTFh2"
      },
      "source": [
        "###**Biến mục tiêu: y**"
      ]
    },
    {
      "cell_type": "markdown",
      "metadata": {
        "id": "rzqaiWiWUf0v"
      },
      "source": [
        "Chúng tôi bắt đầu phân tích khai phá dữ liệu với các biến bằng cách trực quan hóa từng đối tượng."
      ]
    },
    {
      "cell_type": "code",
      "metadata": {
        "colab": {
          "base_uri": "https://localhost:8080/"
        },
        "id": "EiLXL2t3MaTs",
        "outputId": "fa6df523-bf65-402a-e3ba-be61bd8a78a9"
      },
      "source": [
        "data.y.describe()"
      ],
      "execution_count": null,
      "outputs": [
        {
          "output_type": "execute_result",
          "data": {
            "text/plain": [
              "count     45211\n",
              "unique        2\n",
              "top          no\n",
              "freq      39922\n",
              "Name: y, dtype: object"
            ]
          },
          "metadata": {
            "tags": []
          },
          "execution_count": 138
        }
      ]
    },
    {
      "cell_type": "code",
      "metadata": {
        "colab": {
          "base_uri": "https://localhost:8080/",
          "height": 254
        },
        "id": "10r53R-COikv",
        "outputId": "6df45c1f-6928-4413-e9f6-3f834f8b53ea"
      },
      "source": [
        "fig, axs = plt.subplots(1,2, figsize = (15,5))\n",
        "plt1 = sns.countplot(data['y'], ax = axs[0])\n",
        "\n",
        "pie_y = pd.DataFrame(data['y'].value_counts())\n",
        "pie_y.plot.pie( subplots=True,labels = pie_y.index.values, autopct='%1.1f%%', figsize = (15,5), startangle= 50, ax = axs[1])\n",
        "# Unsquish the pie.\n",
        "plt.gca().set_aspect('equal')\n",
        "\n",
        "plt.show()"
      ],
      "execution_count": null,
      "outputs": [
        {
          "output_type": "display_data",
          "data": {
            "image/png": "[encoded data removed]",
            "text/plain": [
              "<Figure size 1080x360 with 2 Axes>"
            ]
          },
          "metadata": {
            "tags": [],
            "needs_background": "light"
          }
        }
      ]
    },
    {
      "cell_type": "markdown",
      "metadata": {
        "id": "pBHL1hrzAGPR"
      },
      "source": [
        "Ta có bộ dữ liệu với 11.7% là khách hàng sẽ mở tài khoản tiền gửi có kỳ hạn.\n"
      ]
    },
    {
      "cell_type": "markdown",
      "metadata": {
        "id": "xZgLbJu5Uf5N"
      },
      "source": [
        "###**Những biến categorical:**"
      ]
    },
    {
      "cell_type": "code",
      "metadata": {
        "colab": {
          "base_uri": "https://localhost:8080/",
          "height": 1000
        },
        "id": "Py5QR2C1Sn21",
        "outputId": "273aacaf-68eb-4c49-9f56-e07b676133cd"
      },
      "source": [
        "categorcial_variables = ['job', 'marital', 'education', 'default', 'housing','loan', 'contact','month', 'poutcome']\n",
        "for col in categorcial_variables:\n",
        "  col_yes = pd.DataFrame(data[data['y']=='yes'][col].value_counts())\n",
        "  col_no = pd.DataFrame(data[data['y']=='no'][col].value_counts())\n",
        "  plotdata = pd.DataFrame({'yes':col_yes.values.reshape(-1),'no':col_no.values.reshape(-1)}, index=data[col].unique())\n",
        "  ax = plotdata.plot(kind='bar',stacked = True)\n",
        "  plt.title(col)"
      ],
      "execution_count": null,
      "outputs": [
        {
          "output_type": "display_data",
          "data": {
            "image/png": "[encoded data removed]",
            "text/plain": [
              "<Figure size 432x288 with 1 Axes>"
            ]
          },
          "metadata": {
            "tags": [],
            "needs_background": "light"
          }
        },
        {
          "output_type": "display_data",
          "data": {
            "image/png": "[encoded data removed]",
            "text/plain": [
              "<Figure size 432x288 with 1 Axes>"
            ]
          },
          "metadata": {
            "tags": [],
            "needs_background": "light"
          }
        },
        {
          "output_type": "display_data",
          "data": {
            "image/png": "[encoded data removed]",
            "text/plain": [
              "<Figure size 432x288 with 1 Axes>"
            ]
          },
          "metadata": {
            "tags": [],
            "needs_background": "light"
          }
        },
        {
          "output_type": "display_data",
          "data": {
            "image/png": "[encoded data removed]",
            "text/plain": [
              "<Figure size 432x288 with 1 Axes>"
            ]
          },
          "metadata": {
            "tags": [],
            "needs_background": "light"
          }
        },
        {
          "output_type": "display_data",
          "data": {
            "image/png": "[encoded data removed]",
            "text/plain": [
              "<Figure size 432x288 with 1 Axes>"
            ]
          },
          "metadata": {
            "tags": [],
            "needs_background": "light"
          }
        },
        {
          "output_type": "display_data",
          "data": {
            "image/png": "[encoded data removed]",
            "text/plain": [
              "<Figure size 432x288 with 1 Axes>"
            ]
          },
          "metadata": {
            "tags": [],
            "needs_background": "light"
          }
        },
        {
          "output_type": "display_data",
          "data": {
            "image/png": "[encoded data removed]",
            "text/plain": [
              "<Figure size 432x288 with 1 Axes>"
            ]
          },
          "metadata": {
            "tags": [],
            "needs_background": "light"
          }
        },
        {
          "output_type": "display_data",
          "data": {
            "image/png": "[encoded data removed]",
            "text/plain": [
              "<Figure size 432x288 with 1 Axes>"
            ]
          },
          "metadata": {
            "tags": [],
            "needs_background": "light"
          }
        },
        {
          "output_type": "display_data",
          "data": {
            "image/png": "[encoded data removed]",
            "text/plain": [
              "<Figure size 432x288 with 1 Axes>"
            ]
          },
          "metadata": {
            "tags": [],
            "needs_background": "light"
          }
        }
      ]
    },
    {
      "cell_type": "markdown",
      "metadata": {
        "id": "rBKnSZMrA23P"
      },
      "source": [
        "Có nhiều giá trị chưa biết đối với nhiều biến trong tập dữ liệu. <br />\n",
        "Các biến có giá trị không xác định hoặc có giá trị khác là: job, education, contact, poutcome. <br />\n",
        "Ở biến contact và poutcome, giá trị 'Unknown' rất nhiều. Đây có thể là chủ ý của khách hàng khi họ không muốn cung cấp thông tin này, do đó, dữ liệu 'Unknow' cũng mang ý nghĩa cuả nó. Ta không thay thế mà xử lý trên các giá trị 'Unknown' này\n",
        "Ta bắt đầu với việc tạo các giá trị mới cho các giá trị chưa biết trong job, education, contact và poutcome. Ta làm điều này để xem các giá trị có bị thiếu một cách ngẫu nhiên hoặc theo một mẫu nào đó.\n"
      ]
    },
    {
      "cell_type": "code",
      "metadata": {
        "id": "CApvvdosXxpT"
      },
      "source": [
        "## Creating new variables (variable name + '_un') to capture the information if the missing values are at random or is there\n",
        "## a pattern in the missing values.\n",
        "significant_cat_variables = ['education','job','housing','loan']\n",
        "for var in significant_cat_variables:\n",
        "    #df[var + '_un'] = 0\n",
        "    #df[var + '_un'][df[var]=='unknown'] = 1\n",
        "    #FIXME one-line coding\n",
        "    data[var + '_un'] = (data[var] == 'unknown').astype(int)"
      ],
      "execution_count": 11,
      "outputs": []
    },
    {
      "cell_type": "markdown",
      "metadata": {
        "id": "Haj15zmcKEUp"
      },
      "source": [
        "Để suy ra các giá trị còn thiếu trong job và education, ta sử dụng bảng chéo giữa job và education. Giả thuyết của tôi ở đây là job bị ảnh hưởng bởi education. Do đó, chúng ta có thể sử dụng công việc để dự đoán nền giáo dục."
      ]
    },
    {
      "cell_type": "code",
      "metadata": {
        "id": "5Zncrv_KYW4O"
      },
      "source": [
        "def cross_tab(df,f1,f2):\n",
        "    jobs=list(df[f1].unique())\n",
        "    edu=list(df[f2].unique())\n",
        "    dataframes=[]\n",
        "    for e in edu:\n",
        "        dfe=df[df[f2]==e]\n",
        "        dfejob=dfe.groupby(f1).count()[f2]\n",
        "        dataframes.append(dfejob)\n",
        "    xx=pd.concat(dataframes,axis=1)\n",
        "    xx.columns=edu\n",
        "    xx=xx.fillna(0)\n",
        "    return xx"
      ],
      "execution_count": 13,
      "outputs": []
    },
    {
      "cell_type": "code",
      "metadata": {
        "colab": {
          "base_uri": "https://localhost:8080/",
          "height": 452
        },
        "id": "bLeBCXoEYx07",
        "outputId": "fabbacfd-5aa4-45bb-ac5d-2f8b948f2054"
      },
      "source": [
        "cross_tab(data,'job','education')"
      ],
      "execution_count": 14,
      "outputs": [
        {
          "output_type": "execute_result",
          "data": {
            "text/html": [
              "<div>\n",
              "<style scoped>\n",
              "    .dataframe tbody tr th:only-of-type {\n",
              "        vertical-align: middle;\n",
              "    }\n",
              "\n",
              "    .dataframe tbody tr th {\n",
              "        vertical-align: top;\n",
              "    }\n",
              "\n",
              "    .dataframe thead th {\n",
              "        text-align: right;\n",
              "    }\n",
              "</style>\n",
              "<table border=\"1\" class=\"dataframe\">\n",
              "  <thead>\n",
              "    <tr style=\"text-align: right;\">\n",
              "      <th></th>\n",
              "      <th>tertiary</th>\n",
              "      <th>secondary</th>\n",
              "      <th>unknown</th>\n",
              "      <th>primary</th>\n",
              "    </tr>\n",
              "    <tr>\n",
              "      <th>job</th>\n",
              "      <th></th>\n",
              "      <th></th>\n",
              "      <th></th>\n",
              "      <th></th>\n",
              "    </tr>\n",
              "  </thead>\n",
              "  <tbody>\n",
              "    <tr>\n",
              "      <th>admin.</th>\n",
              "      <td>572</td>\n",
              "      <td>4219</td>\n",
              "      <td>171</td>\n",
              "      <td>209</td>\n",
              "    </tr>\n",
              "    <tr>\n",
              "      <th>blue-collar</th>\n",
              "      <td>149</td>\n",
              "      <td>5371</td>\n",
              "      <td>454</td>\n",
              "      <td>3758</td>\n",
              "    </tr>\n",
              "    <tr>\n",
              "      <th>entrepreneur</th>\n",
              "      <td>686</td>\n",
              "      <td>542</td>\n",
              "      <td>76</td>\n",
              "      <td>183</td>\n",
              "    </tr>\n",
              "    <tr>\n",
              "      <th>housemaid</th>\n",
              "      <td>173</td>\n",
              "      <td>395</td>\n",
              "      <td>45</td>\n",
              "      <td>627</td>\n",
              "    </tr>\n",
              "    <tr>\n",
              "      <th>management</th>\n",
              "      <td>7801</td>\n",
              "      <td>1121</td>\n",
              "      <td>242</td>\n",
              "      <td>294</td>\n",
              "    </tr>\n",
              "    <tr>\n",
              "      <th>retired</th>\n",
              "      <td>366</td>\n",
              "      <td>984</td>\n",
              "      <td>119</td>\n",
              "      <td>795</td>\n",
              "    </tr>\n",
              "    <tr>\n",
              "      <th>self-employed</th>\n",
              "      <td>833</td>\n",
              "      <td>577</td>\n",
              "      <td>39</td>\n",
              "      <td>130</td>\n",
              "    </tr>\n",
              "    <tr>\n",
              "      <th>services</th>\n",
              "      <td>202</td>\n",
              "      <td>3457</td>\n",
              "      <td>150</td>\n",
              "      <td>345</td>\n",
              "    </tr>\n",
              "    <tr>\n",
              "      <th>student</th>\n",
              "      <td>223</td>\n",
              "      <td>508</td>\n",
              "      <td>163</td>\n",
              "      <td>44</td>\n",
              "    </tr>\n",
              "    <tr>\n",
              "      <th>technician</th>\n",
              "      <td>1968</td>\n",
              "      <td>5229</td>\n",
              "      <td>242</td>\n",
              "      <td>158</td>\n",
              "    </tr>\n",
              "    <tr>\n",
              "      <th>unemployed</th>\n",
              "      <td>289</td>\n",
              "      <td>728</td>\n",
              "      <td>29</td>\n",
              "      <td>257</td>\n",
              "    </tr>\n",
              "    <tr>\n",
              "      <th>unknown</th>\n",
              "      <td>39</td>\n",
              "      <td>71</td>\n",
              "      <td>127</td>\n",
              "      <td>51</td>\n",
              "    </tr>\n",
              "  </tbody>\n",
              "</table>\n",
              "</div>"
            ],
            "text/plain": [
              "               tertiary  secondary  unknown  primary\n",
              "job                                                 \n",
              "admin.              572       4219      171      209\n",
              "blue-collar         149       5371      454     3758\n",
              "entrepreneur        686        542       76      183\n",
              "housemaid           173        395       45      627\n",
              "management         7801       1121      242      294\n",
              "retired             366        984      119      795\n",
              "self-employed       833        577       39      130\n",
              "services            202       3457      150      345\n",
              "student             223        508      163       44\n",
              "technician         1968       5229      242      158\n",
              "unemployed          289        728       29      257\n",
              "unknown              39         71      127       51"
            ]
          },
          "metadata": {
            "tags": []
          },
          "execution_count": 14
        }
      ]
    },
    {
      "cell_type": "code",
      "metadata": {
        "colab": {
          "base_uri": "https://localhost:8080/"
        },
        "id": "76VTJWzKY0-y",
        "outputId": "be9d72d5-a857-44ad-babb-4f2c43a6c345"
      },
      "source": [
        "data['job'][data['age']>60].value_counts()"
      ],
      "execution_count": 15,
      "outputs": [
        {
          "output_type": "execute_result",
          "data": {
            "text/plain": [
              "retired          875\n",
              "management       105\n",
              "housemaid         56\n",
              "technician        30\n",
              "blue-collar       26\n",
              "admin.            25\n",
              "self-employed     24\n",
              "unknown           22\n",
              "entrepreneur      13\n",
              "unemployed        10\n",
              "services           2\n",
              "Name: job, dtype: int64"
            ]
          },
          "metadata": {
            "tags": []
          },
          "execution_count": 15
        }
      ]
    },
    {
      "cell_type": "markdown",
      "metadata": {
        "id": "60xNw2zuZDbA"
      },
      "source": [
        "**Suy ra học vấn từ việc làm:** Qua bảng tổng hợp, có thể thấy rằng những người làm công việc quản lý thường có trình độ đại học. Do đó, bất cứ nơi nào job là 'management' và education là 'unknown', chúng ta có thể thay thế education bằng 'tertiary' Tương tự, job là 'services' hay 'blue-collar' hay 'admin' thay education bằng 'secondary'. job là 'housemaid' thay education bằng 'primary'. <br />\n",
        "**Suy ra công việc từ trình độ học vấn:** Nếu education là 'tertiary', thì job được thay bằng 'management'. Nếu education là 'secondary' thì job được thay bằng 'techniciant'. Nếu education là 'primary' thì job được thay bằng 'housemaid'.<br />\n",
        "**Suy ra công việc theo tuổi:** Như chúng ta thấy, nếu 'tuổi'> 60, thì 'công việc' là 'nghỉ hưu'."
      ]
    },
    {
      "cell_type": "code",
      "metadata": {
        "id": "JdAyWrvYY-8S"
      },
      "source": [
        "data.loc[(data['age']>60) & (data['job']=='unknown'), 'job'] = 'retired'\n",
        "data.loc[(data['education']=='unknown') & (data['job']=='management'), 'education'] = 'tertiary'\n",
        "data.loc[(data['education']=='unknown') & (data['job']=='services'), 'education'] = 'secondary'\n",
        "data.loc[(data['education']=='unknown') & (data['job']=='blue-collar'), 'education'] = 'secondary'\n",
        "data.loc[(data['education']=='unknown') & (data['job']=='admin'), 'education'] = 'secondary'\n",
        "data.loc[(data['education']=='unknown') & (data['job']=='housemaid'), 'education'] = 'primary'\n",
        "data.loc[(data['job'] == 'unknown') & (data['education']=='tertiary'), 'job'] = 'management'\n",
        "data.loc[(data['job'] == 'unknown') & (data['education']=='secondary'), 'job'] = 'techniciant'\n",
        "data.loc[(data['job'] == 'unknown') & (data['education']=='primary'), 'job'] = 'housemaid'"
      ],
      "execution_count": 16,
      "outputs": []
    },
    {
      "cell_type": "code",
      "metadata": {
        "colab": {
          "base_uri": "https://localhost:8080/",
          "height": 452
        },
        "id": "zZoGYiuBaWzV",
        "outputId": "4ef5c164-ad3c-449e-a5ca-712032b645a2"
      },
      "source": [
        "cross_tab(data,'job','education')"
      ],
      "execution_count": 17,
      "outputs": [
        {
          "output_type": "execute_result",
          "data": {
            "text/html": [
              "<div>\n",
              "<style scoped>\n",
              "    .dataframe tbody tr th:only-of-type {\n",
              "        vertical-align: middle;\n",
              "    }\n",
              "\n",
              "    .dataframe tbody tr th {\n",
              "        vertical-align: top;\n",
              "    }\n",
              "\n",
              "    .dataframe thead th {\n",
              "        text-align: right;\n",
              "    }\n",
              "</style>\n",
              "<table border=\"1\" class=\"dataframe\">\n",
              "  <thead>\n",
              "    <tr style=\"text-align: right;\">\n",
              "      <th></th>\n",
              "      <th>tertiary</th>\n",
              "      <th>secondary</th>\n",
              "      <th>unknown</th>\n",
              "      <th>primary</th>\n",
              "    </tr>\n",
              "  </thead>\n",
              "  <tbody>\n",
              "    <tr>\n",
              "      <th>admin.</th>\n",
              "      <td>572.0</td>\n",
              "      <td>4219.0</td>\n",
              "      <td>171.0</td>\n",
              "      <td>209.0</td>\n",
              "    </tr>\n",
              "    <tr>\n",
              "      <th>blue-collar</th>\n",
              "      <td>149.0</td>\n",
              "      <td>5825.0</td>\n",
              "      <td>0.0</td>\n",
              "      <td>3758.0</td>\n",
              "    </tr>\n",
              "    <tr>\n",
              "      <th>entrepreneur</th>\n",
              "      <td>686.0</td>\n",
              "      <td>542.0</td>\n",
              "      <td>76.0</td>\n",
              "      <td>183.0</td>\n",
              "    </tr>\n",
              "    <tr>\n",
              "      <th>housemaid</th>\n",
              "      <td>173.0</td>\n",
              "      <td>395.0</td>\n",
              "      <td>0.0</td>\n",
              "      <td>722.0</td>\n",
              "    </tr>\n",
              "    <tr>\n",
              "      <th>management</th>\n",
              "      <td>8077.0</td>\n",
              "      <td>1121.0</td>\n",
              "      <td>0.0</td>\n",
              "      <td>294.0</td>\n",
              "    </tr>\n",
              "    <tr>\n",
              "      <th>retired</th>\n",
              "      <td>371.0</td>\n",
              "      <td>989.0</td>\n",
              "      <td>130.0</td>\n",
              "      <td>796.0</td>\n",
              "    </tr>\n",
              "    <tr>\n",
              "      <th>self-employed</th>\n",
              "      <td>833.0</td>\n",
              "      <td>577.0</td>\n",
              "      <td>39.0</td>\n",
              "      <td>130.0</td>\n",
              "    </tr>\n",
              "    <tr>\n",
              "      <th>services</th>\n",
              "      <td>202.0</td>\n",
              "      <td>3607.0</td>\n",
              "      <td>0.0</td>\n",
              "      <td>345.0</td>\n",
              "    </tr>\n",
              "    <tr>\n",
              "      <th>student</th>\n",
              "      <td>223.0</td>\n",
              "      <td>508.0</td>\n",
              "      <td>163.0</td>\n",
              "      <td>44.0</td>\n",
              "    </tr>\n",
              "    <tr>\n",
              "      <th>technician</th>\n",
              "      <td>1968.0</td>\n",
              "      <td>5229.0</td>\n",
              "      <td>242.0</td>\n",
              "      <td>158.0</td>\n",
              "    </tr>\n",
              "    <tr>\n",
              "      <th>unemployed</th>\n",
              "      <td>289.0</td>\n",
              "      <td>728.0</td>\n",
              "      <td>29.0</td>\n",
              "      <td>257.0</td>\n",
              "    </tr>\n",
              "    <tr>\n",
              "      <th>techniciant</th>\n",
              "      <td>0.0</td>\n",
              "      <td>66.0</td>\n",
              "      <td>0.0</td>\n",
              "      <td>0.0</td>\n",
              "    </tr>\n",
              "    <tr>\n",
              "      <th>unknown</th>\n",
              "      <td>0.0</td>\n",
              "      <td>0.0</td>\n",
              "      <td>116.0</td>\n",
              "      <td>0.0</td>\n",
              "    </tr>\n",
              "  </tbody>\n",
              "</table>\n",
              "</div>"
            ],
            "text/plain": [
              "               tertiary  secondary  unknown  primary\n",
              "admin.            572.0     4219.0    171.0    209.0\n",
              "blue-collar       149.0     5825.0      0.0   3758.0\n",
              "entrepreneur      686.0      542.0     76.0    183.0\n",
              "housemaid         173.0      395.0      0.0    722.0\n",
              "management       8077.0     1121.0      0.0    294.0\n",
              "retired           371.0      989.0    130.0    796.0\n",
              "self-employed     833.0      577.0     39.0    130.0\n",
              "services          202.0     3607.0      0.0    345.0\n",
              "student           223.0      508.0    163.0     44.0\n",
              "technician       1968.0     5229.0    242.0    158.0\n",
              "unemployed        289.0      728.0     29.0    257.0\n",
              "techniciant         0.0       66.0      0.0      0.0\n",
              "unknown             0.0        0.0    116.0      0.0"
            ]
          },
          "metadata": {
            "tags": []
          },
          "execution_count": 17
        }
      ]
    },
    {
      "cell_type": "markdown",
      "metadata": {
        "id": "2sRmvjrgWIK9"
      },
      "source": [
        "Ta có thể thấy, dữ liệu bị 'Unknown' đã giảm đáng kể."
      ]
    },
    {
      "cell_type": "markdown",
      "metadata": {
        "id": "DRSj1B4RbdMy"
      },
      "source": [
        "###**Những biến numerical:**\n",
        "Xem xét bảng summary của dữ liệu ở bên dưới để hiểu về những biến numerical."
      ]
    },
    {
      "cell_type": "code",
      "metadata": {
        "colab": {
          "base_uri": "https://localhost:8080/",
          "height": 317
        },
        "id": "IRyyFF5Ibbwp",
        "outputId": "b23190fe-d3e4-499f-fe51-87d737988e79"
      },
      "source": [
        "numerical_variables = ['age','balance','day','contact','duration','campaign', 'pdays', 'previous']\n",
        "data[numerical_variables].describe()"
      ],
      "execution_count": 18,
      "outputs": [
        {
          "output_type": "execute_result",
          "data": {
            "text/html": [
              "<div>\n",
              "<style scoped>\n",
              "    .dataframe tbody tr th:only-of-type {\n",
              "        vertical-align: middle;\n",
              "    }\n",
              "\n",
              "    .dataframe tbody tr th {\n",
              "        vertical-align: top;\n",
              "    }\n",
              "\n",
              "    .dataframe thead th {\n",
              "        text-align: right;\n",
              "    }\n",
              "</style>\n",
              "<table border=\"1\" class=\"dataframe\">\n",
              "  <thead>\n",
              "    <tr style=\"text-align: right;\">\n",
              "      <th></th>\n",
              "      <th>age</th>\n",
              "      <th>balance</th>\n",
              "      <th>day</th>\n",
              "      <th>duration</th>\n",
              "      <th>campaign</th>\n",
              "      <th>pdays</th>\n",
              "      <th>previous</th>\n",
              "    </tr>\n",
              "  </thead>\n",
              "  <tbody>\n",
              "    <tr>\n",
              "      <th>count</th>\n",
              "      <td>45211.000000</td>\n",
              "      <td>45211.000000</td>\n",
              "      <td>45211.000000</td>\n",
              "      <td>45211.000000</td>\n",
              "      <td>45211.000000</td>\n",
              "      <td>45211.000000</td>\n",
              "      <td>45211.000000</td>\n",
              "    </tr>\n",
              "    <tr>\n",
              "      <th>mean</th>\n",
              "      <td>40.936210</td>\n",
              "      <td>1362.272058</td>\n",
              "      <td>15.806419</td>\n",
              "      <td>258.163080</td>\n",
              "      <td>2.763841</td>\n",
              "      <td>40.197828</td>\n",
              "      <td>0.580323</td>\n",
              "    </tr>\n",
              "    <tr>\n",
              "      <th>std</th>\n",
              "      <td>10.618762</td>\n",
              "      <td>3044.765829</td>\n",
              "      <td>8.322476</td>\n",
              "      <td>257.527812</td>\n",
              "      <td>3.098021</td>\n",
              "      <td>100.128746</td>\n",
              "      <td>2.303441</td>\n",
              "    </tr>\n",
              "    <tr>\n",
              "      <th>min</th>\n",
              "      <td>18.000000</td>\n",
              "      <td>-8019.000000</td>\n",
              "      <td>1.000000</td>\n",
              "      <td>0.000000</td>\n",
              "      <td>1.000000</td>\n",
              "      <td>-1.000000</td>\n",
              "      <td>0.000000</td>\n",
              "    </tr>\n",
              "    <tr>\n",
              "      <th>25%</th>\n",
              "      <td>33.000000</td>\n",
              "      <td>72.000000</td>\n",
              "      <td>8.000000</td>\n",
              "      <td>103.000000</td>\n",
              "      <td>1.000000</td>\n",
              "      <td>-1.000000</td>\n",
              "      <td>0.000000</td>\n",
              "    </tr>\n",
              "    <tr>\n",
              "      <th>50%</th>\n",
              "      <td>39.000000</td>\n",
              "      <td>448.000000</td>\n",
              "      <td>16.000000</td>\n",
              "      <td>180.000000</td>\n",
              "      <td>2.000000</td>\n",
              "      <td>-1.000000</td>\n",
              "      <td>0.000000</td>\n",
              "    </tr>\n",
              "    <tr>\n",
              "      <th>75%</th>\n",
              "      <td>48.000000</td>\n",
              "      <td>1428.000000</td>\n",
              "      <td>21.000000</td>\n",
              "      <td>319.000000</td>\n",
              "      <td>3.000000</td>\n",
              "      <td>-1.000000</td>\n",
              "      <td>0.000000</td>\n",
              "    </tr>\n",
              "    <tr>\n",
              "      <th>max</th>\n",
              "      <td>95.000000</td>\n",
              "      <td>102127.000000</td>\n",
              "      <td>31.000000</td>\n",
              "      <td>4918.000000</td>\n",
              "      <td>63.000000</td>\n",
              "      <td>871.000000</td>\n",
              "      <td>275.000000</td>\n",
              "    </tr>\n",
              "  </tbody>\n",
              "</table>\n",
              "</div>"
            ],
            "text/plain": [
              "                age        balance  ...         pdays      previous\n",
              "count  45211.000000   45211.000000  ...  45211.000000  45211.000000\n",
              "mean      40.936210    1362.272058  ...     40.197828      0.580323\n",
              "std       10.618762    3044.765829  ...    100.128746      2.303441\n",
              "min       18.000000   -8019.000000  ...     -1.000000      0.000000\n",
              "25%       33.000000      72.000000  ...     -1.000000      0.000000\n",
              "50%       39.000000     448.000000  ...     -1.000000      0.000000\n",
              "75%       48.000000    1428.000000  ...     -1.000000      0.000000\n",
              "max       95.000000  102127.000000  ...    871.000000    275.000000\n",
              "\n",
              "[8 rows x 7 columns]"
            ]
          },
          "metadata": {
            "tags": []
          },
          "execution_count": 18
        }
      ]
    },
    {
      "cell_type": "code",
      "metadata": {
        "colab": {
          "base_uri": "https://localhost:8080/",
          "height": 1000
        },
        "id": "0tc1LMudlcbC",
        "outputId": "8adb8490-e10e-4dab-f5fd-c8b7a3a3044c"
      },
      "source": [
        "numerical_variables = ['age','balance','day','duration','campaign', 'pdays', 'previous']\n",
        "for col in numerical_variables:\n",
        "  sns.boxplot(x = col, y = 'y', data = data)\n",
        "  plt.show()"
      ],
      "execution_count": 19,
      "outputs": [
        {
          "output_type": "display_data",
          "data": {
            "image/png": "[encoded data removed]",
            "text/plain": [
              "<Figure size 432x288 with 1 Axes>"
            ]
          },
          "metadata": {
            "tags": [],
            "needs_background": "light"
          }
        },
        {
          "output_type": "display_data",
          "data": {
            "image/png": "[encoded data removed]",
            "text/plain": [
              "<Figure size 432x288 with 1 Axes>"
            ]
          },
          "metadata": {
            "tags": [],
            "needs_background": "light"
          }
        },
        {
          "output_type": "display_data",
          "data": {
            "image/png": "[encoded data removed]",
            "text/plain": [
              "<Figure size 432x288 with 1 Axes>"
            ]
          },
          "metadata": {
            "tags": [],
            "needs_background": "light"
          }
        },
        {
          "output_type": "display_data",
          "data": {
            "image/png": "[encoded data removed]",
            "text/plain": [
              "<Figure size 432x288 with 1 Axes>"
            ]
          },
          "metadata": {
            "tags": [],
            "needs_background": "light"
          }
        },
        {
          "output_type": "display_data",
          "data": {
            "image/png": "[encoded data removed]",
            "text/plain": [
              "<Figure size 432x288 with 1 Axes>"
            ]
          },
          "metadata": {
            "tags": [],
            "needs_background": "light"
          }
        },
        {
          "output_type": "display_data",
          "data": {
            "image/png": "[encoded data removed]",
            "text/plain": [
              "<Figure size 432x288 with 1 Axes>"
            ]
          },
          "metadata": {
            "tags": [],
            "needs_background": "light"
          }
        },
        {
          "output_type": "display_data",
          "data": {
            "image/png": "[encoded data removed]",
            "text/plain": [
              "<Figure size 432x288 with 1 Axes>"
            ]
          },
          "metadata": {
            "tags": [],
            "needs_background": "light"
          }
        }
      ]
    },
    {
      "cell_type": "markdown",
      "metadata": {
        "id": "VjQIX2T0b9ZM"
      },
      "source": [
        "**Missing value:** Không có <br />\n",
        "**Outliers:** Outlier được định nghĩa là 1,5 x giá trị Q3 (phân vị thứ 75). Từ bảng trên, có thể thấy rằng chỉ có biến day không có outlier. Các biến còn lại đều có outlier. <br />\n",
        "Với biến age giá trị lớn nhất là 95. Điều này có thể là giá trị thực tế, có phần hợp lý. Ta chấp nhận các outlier.<br />\n",
        "Với biến balance, số dư trung bình năm của đối tượng khảo sát, với max > 100.000 Euro là hợp lý. Ta chấp nhận các outlier.<br />\n",
        "Với biến duration, max > 5000. Biến được tính theo giây, tổng thời gian cuộc gọi khoảng 100 phút. Điều này cũng khá hợp lý. Ta chấp nhận các outlier. <br />\n",
        "Với biến campaign, max > 60 hợp lý. Ta chấp nhận các outlier. <br />\n",
        "Với biến pday, max > 800.  Tức số ngày trôi qua sau khi khách hàng được liên hệ lần cuối từ một chiến dịch trước đó ở khoảng hơn 2 năm. Điều này là hợp lý. Ta chấp nhận các outlier này.<br />\n",
        "Với biến previous, max > 250, số lượng địa chỉ liên hệ được thực hiện trước chiến dịch này và cho khách hàng này lớn hơn 250. Điều này không hợp lý. Do phần lớn đối tượng khảo sát được liên hệ lần đầu nên đến phân vị thứ 75, vẫn bằng 0. Các giá trị outlier nằm tập trung và ở khoảng dưới 60 sẽ được chấp nhận. Gía trị 250 được thay thế bởi mean.\n"
      ]
    },
    {
      "cell_type": "code",
      "metadata": {
        "id": "Ne-jDx_XvTMv"
      },
      "source": [
        "data.loc[data['previous']>250, 'previous'] = np.mean(data['previous'])"
      ],
      "execution_count": 20,
      "outputs": []
    },
    {
      "cell_type": "code",
      "metadata": {
        "colab": {
          "base_uri": "https://localhost:8080/",
          "height": 317
        },
        "id": "MkPjFvYjv0yy",
        "outputId": "0d936b6d-8c3b-4265-a34f-8f25ce1f7c45"
      },
      "source": [
        "data[numerical_variables].describe()"
      ],
      "execution_count": 21,
      "outputs": [
        {
          "output_type": "execute_result",
          "data": {
            "text/html": [
              "<div>\n",
              "<style scoped>\n",
              "    .dataframe tbody tr th:only-of-type {\n",
              "        vertical-align: middle;\n",
              "    }\n",
              "\n",
              "    .dataframe tbody tr th {\n",
              "        vertical-align: top;\n",
              "    }\n",
              "\n",
              "    .dataframe thead th {\n",
              "        text-align: right;\n",
              "    }\n",
              "</style>\n",
              "<table border=\"1\" class=\"dataframe\">\n",
              "  <thead>\n",
              "    <tr style=\"text-align: right;\">\n",
              "      <th></th>\n",
              "      <th>age</th>\n",
              "      <th>balance</th>\n",
              "      <th>day</th>\n",
              "      <th>duration</th>\n",
              "      <th>campaign</th>\n",
              "      <th>pdays</th>\n",
              "      <th>previous</th>\n",
              "    </tr>\n",
              "  </thead>\n",
              "  <tbody>\n",
              "    <tr>\n",
              "      <th>count</th>\n",
              "      <td>45211.000000</td>\n",
              "      <td>45211.000000</td>\n",
              "      <td>45211.000000</td>\n",
              "      <td>45211.000000</td>\n",
              "      <td>45211.000000</td>\n",
              "      <td>45211.000000</td>\n",
              "      <td>45211.000000</td>\n",
              "    </tr>\n",
              "    <tr>\n",
              "      <th>mean</th>\n",
              "      <td>40.936210</td>\n",
              "      <td>1362.272058</td>\n",
              "      <td>15.806419</td>\n",
              "      <td>258.163080</td>\n",
              "      <td>2.763841</td>\n",
              "      <td>40.197828</td>\n",
              "      <td>0.574254</td>\n",
              "    </tr>\n",
              "    <tr>\n",
              "      <th>std</th>\n",
              "      <td>10.618762</td>\n",
              "      <td>3044.765829</td>\n",
              "      <td>8.322476</td>\n",
              "      <td>257.527812</td>\n",
              "      <td>3.098021</td>\n",
              "      <td>100.128746</td>\n",
              "      <td>1.907906</td>\n",
              "    </tr>\n",
              "    <tr>\n",
              "      <th>min</th>\n",
              "      <td>18.000000</td>\n",
              "      <td>-8019.000000</td>\n",
              "      <td>1.000000</td>\n",
              "      <td>0.000000</td>\n",
              "      <td>1.000000</td>\n",
              "      <td>-1.000000</td>\n",
              "      <td>0.000000</td>\n",
              "    </tr>\n",
              "    <tr>\n",
              "      <th>25%</th>\n",
              "      <td>33.000000</td>\n",
              "      <td>72.000000</td>\n",
              "      <td>8.000000</td>\n",
              "      <td>103.000000</td>\n",
              "      <td>1.000000</td>\n",
              "      <td>-1.000000</td>\n",
              "      <td>0.000000</td>\n",
              "    </tr>\n",
              "    <tr>\n",
              "      <th>50%</th>\n",
              "      <td>39.000000</td>\n",
              "      <td>448.000000</td>\n",
              "      <td>16.000000</td>\n",
              "      <td>180.000000</td>\n",
              "      <td>2.000000</td>\n",
              "      <td>-1.000000</td>\n",
              "      <td>0.000000</td>\n",
              "    </tr>\n",
              "    <tr>\n",
              "      <th>75%</th>\n",
              "      <td>48.000000</td>\n",
              "      <td>1428.000000</td>\n",
              "      <td>21.000000</td>\n",
              "      <td>319.000000</td>\n",
              "      <td>3.000000</td>\n",
              "      <td>-1.000000</td>\n",
              "      <td>0.000000</td>\n",
              "    </tr>\n",
              "    <tr>\n",
              "      <th>max</th>\n",
              "      <td>95.000000</td>\n",
              "      <td>102127.000000</td>\n",
              "      <td>31.000000</td>\n",
              "      <td>4918.000000</td>\n",
              "      <td>63.000000</td>\n",
              "      <td>871.000000</td>\n",
              "      <td>58.000000</td>\n",
              "    </tr>\n",
              "  </tbody>\n",
              "</table>\n",
              "</div>"
            ],
            "text/plain": [
              "                age        balance  ...         pdays      previous\n",
              "count  45211.000000   45211.000000  ...  45211.000000  45211.000000\n",
              "mean      40.936210    1362.272058  ...     40.197828      0.574254\n",
              "std       10.618762    3044.765829  ...    100.128746      1.907906\n",
              "min       18.000000   -8019.000000  ...     -1.000000      0.000000\n",
              "25%       33.000000      72.000000  ...     -1.000000      0.000000\n",
              "50%       39.000000     448.000000  ...     -1.000000      0.000000\n",
              "75%       48.000000    1428.000000  ...     -1.000000      0.000000\n",
              "max       95.000000  102127.000000  ...    871.000000     58.000000\n",
              "\n",
              "[8 rows x 7 columns]"
            ]
          },
          "metadata": {
            "tags": []
          },
          "execution_count": 21
        }
      ]
    },
    {
      "cell_type": "markdown",
      "metadata": {
        "id": "UrpugJWPw_cT"
      },
      "source": [
        "# **Mã hoá dữ liệu**\n",
        "Vì dữ liệu có nhiều biến categorical, nên cần các biến dummy mã hoá cho các biến đó."
      ]
    },
    {
      "cell_type": "markdown",
      "metadata": {
        "id": "s1rIIPjGzwMM"
      },
      "source": [
        "###**Với các biến binary (Yes/No) thành (0,1)**"
      ]
    },
    {
      "cell_type": "code",
      "metadata": {
        "id": "cfhDrHjl0Mvo"
      },
      "source": [
        "# List of variables to map\n",
        "\n",
        "varlist =  ['default', 'housing', 'loan','y']\n",
        "\n",
        "# Defining the map function\n",
        "def binary_map(x):\n",
        "    return x.map({'yes': 1, \"no\": 0})\n",
        "\n",
        "# Applying the function to the housing list\n",
        "data[varlist] = data[varlist].apply(binary_map)"
      ],
      "execution_count": 22,
      "outputs": []
    },
    {
      "cell_type": "code",
      "metadata": {
        "colab": {
          "base_uri": "https://localhost:8080/",
          "height": 224
        },
        "id": "J8-iWEb70m20",
        "outputId": "cfe88afd-e663-4292-e5e5-d9248dde2a01"
      },
      "source": [
        "data.head()"
      ],
      "execution_count": null,
      "outputs": [
        {
          "output_type": "execute_result",
          "data": {
            "text/html": [
              "<div>\n",
              "<style scoped>\n",
              "    .dataframe tbody tr th:only-of-type {\n",
              "        vertical-align: middle;\n",
              "    }\n",
              "\n",
              "    .dataframe tbody tr th {\n",
              "        vertical-align: top;\n",
              "    }\n",
              "\n",
              "    .dataframe thead th {\n",
              "        text-align: right;\n",
              "    }\n",
              "</style>\n",
              "<table border=\"1\" class=\"dataframe\">\n",
              "  <thead>\n",
              "    <tr style=\"text-align: right;\">\n",
              "      <th></th>\n",
              "      <th>age</th>\n",
              "      <th>job</th>\n",
              "      <th>marital</th>\n",
              "      <th>education</th>\n",
              "      <th>default</th>\n",
              "      <th>balance</th>\n",
              "      <th>housing</th>\n",
              "      <th>loan</th>\n",
              "      <th>contact</th>\n",
              "      <th>day</th>\n",
              "      <th>month</th>\n",
              "      <th>duration</th>\n",
              "      <th>campaign</th>\n",
              "      <th>pdays</th>\n",
              "      <th>previous</th>\n",
              "      <th>poutcome</th>\n",
              "      <th>y</th>\n",
              "      <th>education_un</th>\n",
              "      <th>job_un</th>\n",
              "      <th>housing_un</th>\n",
              "      <th>loan_un</th>\n",
              "    </tr>\n",
              "  </thead>\n",
              "  <tbody>\n",
              "    <tr>\n",
              "      <th>0</th>\n",
              "      <td>58</td>\n",
              "      <td>management</td>\n",
              "      <td>married</td>\n",
              "      <td>tertiary</td>\n",
              "      <td>0</td>\n",
              "      <td>2143</td>\n",
              "      <td>1</td>\n",
              "      <td>0</td>\n",
              "      <td>unknown</td>\n",
              "      <td>5</td>\n",
              "      <td>may</td>\n",
              "      <td>261</td>\n",
              "      <td>1</td>\n",
              "      <td>-1</td>\n",
              "      <td>0.0</td>\n",
              "      <td>unknown</td>\n",
              "      <td>0</td>\n",
              "      <td>0</td>\n",
              "      <td>0</td>\n",
              "      <td>0</td>\n",
              "      <td>0</td>\n",
              "    </tr>\n",
              "    <tr>\n",
              "      <th>1</th>\n",
              "      <td>44</td>\n",
              "      <td>technician</td>\n",
              "      <td>single</td>\n",
              "      <td>secondary</td>\n",
              "      <td>0</td>\n",
              "      <td>29</td>\n",
              "      <td>1</td>\n",
              "      <td>0</td>\n",
              "      <td>unknown</td>\n",
              "      <td>5</td>\n",
              "      <td>may</td>\n",
              "      <td>151</td>\n",
              "      <td>1</td>\n",
              "      <td>-1</td>\n",
              "      <td>0.0</td>\n",
              "      <td>unknown</td>\n",
              "      <td>0</td>\n",
              "      <td>0</td>\n",
              "      <td>0</td>\n",
              "      <td>0</td>\n",
              "      <td>0</td>\n",
              "    </tr>\n",
              "    <tr>\n",
              "      <th>2</th>\n",
              "      <td>33</td>\n",
              "      <td>entrepreneur</td>\n",
              "      <td>married</td>\n",
              "      <td>secondary</td>\n",
              "      <td>0</td>\n",
              "      <td>2</td>\n",
              "      <td>1</td>\n",
              "      <td>1</td>\n",
              "      <td>unknown</td>\n",
              "      <td>5</td>\n",
              "      <td>may</td>\n",
              "      <td>76</td>\n",
              "      <td>1</td>\n",
              "      <td>-1</td>\n",
              "      <td>0.0</td>\n",
              "      <td>unknown</td>\n",
              "      <td>0</td>\n",
              "      <td>0</td>\n",
              "      <td>0</td>\n",
              "      <td>0</td>\n",
              "      <td>0</td>\n",
              "    </tr>\n",
              "    <tr>\n",
              "      <th>3</th>\n",
              "      <td>47</td>\n",
              "      <td>blue-collar</td>\n",
              "      <td>married</td>\n",
              "      <td>secondary</td>\n",
              "      <td>0</td>\n",
              "      <td>1506</td>\n",
              "      <td>1</td>\n",
              "      <td>0</td>\n",
              "      <td>unknown</td>\n",
              "      <td>5</td>\n",
              "      <td>may</td>\n",
              "      <td>92</td>\n",
              "      <td>1</td>\n",
              "      <td>-1</td>\n",
              "      <td>0.0</td>\n",
              "      <td>unknown</td>\n",
              "      <td>0</td>\n",
              "      <td>1</td>\n",
              "      <td>0</td>\n",
              "      <td>0</td>\n",
              "      <td>0</td>\n",
              "    </tr>\n",
              "    <tr>\n",
              "      <th>4</th>\n",
              "      <td>33</td>\n",
              "      <td>unknown</td>\n",
              "      <td>single</td>\n",
              "      <td>unknown</td>\n",
              "      <td>0</td>\n",
              "      <td>1</td>\n",
              "      <td>0</td>\n",
              "      <td>0</td>\n",
              "      <td>unknown</td>\n",
              "      <td>5</td>\n",
              "      <td>may</td>\n",
              "      <td>198</td>\n",
              "      <td>1</td>\n",
              "      <td>-1</td>\n",
              "      <td>0.0</td>\n",
              "      <td>unknown</td>\n",
              "      <td>0</td>\n",
              "      <td>1</td>\n",
              "      <td>1</td>\n",
              "      <td>0</td>\n",
              "      <td>0</td>\n",
              "    </tr>\n",
              "  </tbody>\n",
              "</table>\n",
              "</div>"
            ],
            "text/plain": [
              "   age           job  marital  ... job_un  housing_un  loan_un\n",
              "0   58    management  married  ...      0           0        0\n",
              "1   44    technician   single  ...      0           0        0\n",
              "2   33  entrepreneur  married  ...      0           0        0\n",
              "3   47   blue-collar  married  ...      0           0        0\n",
              "4   33       unknown   single  ...      1           0        0\n",
              "\n",
              "[5 rows x 21 columns]"
            ]
          },
          "metadata": {
            "tags": []
          },
          "execution_count": 244
        }
      ]
    },
    {
      "cell_type": "markdown",
      "metadata": {
        "id": "3fJ9wGJaz-OF"
      },
      "source": [
        "###**Với các biến categorical, tạo ra những biến dummy (one-hot-encoded)**"
      ]
    },
    {
      "cell_type": "code",
      "metadata": {
        "id": "T8lbg6ns1BnA"
      },
      "source": [
        "# Creating a dummy variable for some of the categorical variables and dropping the first one.\n",
        "dummy1 = pd.get_dummies(data[['job', 'marital', 'education', 'contact','month', 'poutcome']], drop_first=True)\n",
        "\n",
        "# Adding the results to the master dataframe\n",
        "data = pd.concat([data, dummy1], axis=1)"
      ],
      "execution_count": 23,
      "outputs": []
    },
    {
      "cell_type": "code",
      "metadata": {
        "colab": {
          "base_uri": "https://localhost:8080/",
          "height": 258
        },
        "id": "VfqHTrCE1qFT",
        "outputId": "0a16a523-a9a4-444b-c7eb-b0a3aef35e52"
      },
      "source": [
        "print(data.shape)\n",
        "data.head()"
      ],
      "execution_count": null,
      "outputs": [
        {
          "output_type": "stream",
          "text": [
            "(45211, 54)\n"
          ],
          "name": "stdout"
        },
        {
          "output_type": "execute_result",
          "data": {
            "text/html": [
              "<div>\n",
              "<style scoped>\n",
              "    .dataframe tbody tr th:only-of-type {\n",
              "        vertical-align: middle;\n",
              "    }\n",
              "\n",
              "    .dataframe tbody tr th {\n",
              "        vertical-align: top;\n",
              "    }\n",
              "\n",
              "    .dataframe thead th {\n",
              "        text-align: right;\n",
              "    }\n",
              "</style>\n",
              "<table border=\"1\" class=\"dataframe\">\n",
              "  <thead>\n",
              "    <tr style=\"text-align: right;\">\n",
              "      <th></th>\n",
              "      <th>age</th>\n",
              "      <th>job</th>\n",
              "      <th>marital</th>\n",
              "      <th>education</th>\n",
              "      <th>default</th>\n",
              "      <th>balance</th>\n",
              "      <th>housing</th>\n",
              "      <th>loan</th>\n",
              "      <th>contact</th>\n",
              "      <th>day</th>\n",
              "      <th>month</th>\n",
              "      <th>duration</th>\n",
              "      <th>campaign</th>\n",
              "      <th>pdays</th>\n",
              "      <th>previous</th>\n",
              "      <th>poutcome</th>\n",
              "      <th>y</th>\n",
              "      <th>education_un</th>\n",
              "      <th>job_un</th>\n",
              "      <th>housing_un</th>\n",
              "      <th>loan_un</th>\n",
              "      <th>job_blue-collar</th>\n",
              "      <th>job_entrepreneur</th>\n",
              "      <th>job_housemaid</th>\n",
              "      <th>job_management</th>\n",
              "      <th>job_retired</th>\n",
              "      <th>job_self-employed</th>\n",
              "      <th>job_services</th>\n",
              "      <th>job_student</th>\n",
              "      <th>job_technician</th>\n",
              "      <th>job_techniciant</th>\n",
              "      <th>job_unemployed</th>\n",
              "      <th>job_unknown</th>\n",
              "      <th>marital_married</th>\n",
              "      <th>marital_single</th>\n",
              "      <th>education_secondary</th>\n",
              "      <th>education_tertiary</th>\n",
              "      <th>education_unknown</th>\n",
              "      <th>contact_telephone</th>\n",
              "      <th>contact_unknown</th>\n",
              "      <th>month_aug</th>\n",
              "      <th>month_dec</th>\n",
              "      <th>month_feb</th>\n",
              "      <th>month_jan</th>\n",
              "      <th>month_jul</th>\n",
              "      <th>month_jun</th>\n",
              "      <th>month_mar</th>\n",
              "      <th>month_may</th>\n",
              "      <th>month_nov</th>\n",
              "      <th>month_oct</th>\n",
              "      <th>month_sep</th>\n",
              "      <th>poutcome_other</th>\n",
              "      <th>poutcome_success</th>\n",
              "      <th>poutcome_unknown</th>\n",
              "    </tr>\n",
              "  </thead>\n",
              "  <tbody>\n",
              "    <tr>\n",
              "      <th>0</th>\n",
              "      <td>58</td>\n",
              "      <td>management</td>\n",
              "      <td>married</td>\n",
              "      <td>tertiary</td>\n",
              "      <td>0</td>\n",
              "      <td>2143</td>\n",
              "      <td>1</td>\n",
              "      <td>0</td>\n",
              "      <td>unknown</td>\n",
              "      <td>5</td>\n",
              "      <td>may</td>\n",
              "      <td>261</td>\n",
              "      <td>1</td>\n",
              "      <td>-1</td>\n",
              "      <td>0.0</td>\n",
              "      <td>unknown</td>\n",
              "      <td>0</td>\n",
              "      <td>0</td>\n",
              "      <td>0</td>\n",
              "      <td>0</td>\n",
              "      <td>0</td>\n",
              "      <td>0</td>\n",
              "      <td>0</td>\n",
              "      <td>0</td>\n",
              "      <td>1</td>\n",
              "      <td>0</td>\n",
              "      <td>0</td>\n",
              "      <td>0</td>\n",
              "      <td>0</td>\n",
              "      <td>0</td>\n",
              "      <td>0</td>\n",
              "      <td>0</td>\n",
              "      <td>0</td>\n",
              "      <td>1</td>\n",
              "      <td>0</td>\n",
              "      <td>0</td>\n",
              "      <td>1</td>\n",
              "      <td>0</td>\n",
              "      <td>0</td>\n",
              "      <td>1</td>\n",
              "      <td>0</td>\n",
              "      <td>0</td>\n",
              "      <td>0</td>\n",
              "      <td>0</td>\n",
              "      <td>0</td>\n",
              "      <td>0</td>\n",
              "      <td>0</td>\n",
              "      <td>1</td>\n",
              "      <td>0</td>\n",
              "      <td>0</td>\n",
              "      <td>0</td>\n",
              "      <td>0</td>\n",
              "      <td>0</td>\n",
              "      <td>1</td>\n",
              "    </tr>\n",
              "    <tr>\n",
              "      <th>1</th>\n",
              "      <td>44</td>\n",
              "      <td>technician</td>\n",
              "      <td>single</td>\n",
              "      <td>secondary</td>\n",
              "      <td>0</td>\n",
              "      <td>29</td>\n",
              "      <td>1</td>\n",
              "      <td>0</td>\n",
              "      <td>unknown</td>\n",
              "      <td>5</td>\n",
              "      <td>may</td>\n",
              "      <td>151</td>\n",
              "      <td>1</td>\n",
              "      <td>-1</td>\n",
              "      <td>0.0</td>\n",
              "      <td>unknown</td>\n",
              "      <td>0</td>\n",
              "      <td>0</td>\n",
              "      <td>0</td>\n",
              "      <td>0</td>\n",
              "      <td>0</td>\n",
              "      <td>0</td>\n",
              "      <td>0</td>\n",
              "      <td>0</td>\n",
              "      <td>0</td>\n",
              "      <td>0</td>\n",
              "      <td>0</td>\n",
              "      <td>0</td>\n",
              "      <td>0</td>\n",
              "      <td>1</td>\n",
              "      <td>0</td>\n",
              "      <td>0</td>\n",
              "      <td>0</td>\n",
              "      <td>0</td>\n",
              "      <td>1</td>\n",
              "      <td>1</td>\n",
              "      <td>0</td>\n",
              "      <td>0</td>\n",
              "      <td>0</td>\n",
              "      <td>1</td>\n",
              "      <td>0</td>\n",
              "      <td>0</td>\n",
              "      <td>0</td>\n",
              "      <td>0</td>\n",
              "      <td>0</td>\n",
              "      <td>0</td>\n",
              "      <td>0</td>\n",
              "      <td>1</td>\n",
              "      <td>0</td>\n",
              "      <td>0</td>\n",
              "      <td>0</td>\n",
              "      <td>0</td>\n",
              "      <td>0</td>\n",
              "      <td>1</td>\n",
              "    </tr>\n",
              "    <tr>\n",
              "      <th>2</th>\n",
              "      <td>33</td>\n",
              "      <td>entrepreneur</td>\n",
              "      <td>married</td>\n",
              "      <td>secondary</td>\n",
              "      <td>0</td>\n",
              "      <td>2</td>\n",
              "      <td>1</td>\n",
              "      <td>1</td>\n",
              "      <td>unknown</td>\n",
              "      <td>5</td>\n",
              "      <td>may</td>\n",
              "      <td>76</td>\n",
              "      <td>1</td>\n",
              "      <td>-1</td>\n",
              "      <td>0.0</td>\n",
              "      <td>unknown</td>\n",
              "      <td>0</td>\n",
              "      <td>0</td>\n",
              "      <td>0</td>\n",
              "      <td>0</td>\n",
              "      <td>0</td>\n",
              "      <td>0</td>\n",
              "      <td>1</td>\n",
              "      <td>0</td>\n",
              "      <td>0</td>\n",
              "      <td>0</td>\n",
              "      <td>0</td>\n",
              "      <td>0</td>\n",
              "      <td>0</td>\n",
              "      <td>0</td>\n",
              "      <td>0</td>\n",
              "      <td>0</td>\n",
              "      <td>0</td>\n",
              "      <td>1</td>\n",
              "      <td>0</td>\n",
              "      <td>1</td>\n",
              "      <td>0</td>\n",
              "      <td>0</td>\n",
              "      <td>0</td>\n",
              "      <td>1</td>\n",
              "      <td>0</td>\n",
              "      <td>0</td>\n",
              "      <td>0</td>\n",
              "      <td>0</td>\n",
              "      <td>0</td>\n",
              "      <td>0</td>\n",
              "      <td>0</td>\n",
              "      <td>1</td>\n",
              "      <td>0</td>\n",
              "      <td>0</td>\n",
              "      <td>0</td>\n",
              "      <td>0</td>\n",
              "      <td>0</td>\n",
              "      <td>1</td>\n",
              "    </tr>\n",
              "    <tr>\n",
              "      <th>3</th>\n",
              "      <td>47</td>\n",
              "      <td>blue-collar</td>\n",
              "      <td>married</td>\n",
              "      <td>secondary</td>\n",
              "      <td>0</td>\n",
              "      <td>1506</td>\n",
              "      <td>1</td>\n",
              "      <td>0</td>\n",
              "      <td>unknown</td>\n",
              "      <td>5</td>\n",
              "      <td>may</td>\n",
              "      <td>92</td>\n",
              "      <td>1</td>\n",
              "      <td>-1</td>\n",
              "      <td>0.0</td>\n",
              "      <td>unknown</td>\n",
              "      <td>0</td>\n",
              "      <td>1</td>\n",
              "      <td>0</td>\n",
              "      <td>0</td>\n",
              "      <td>0</td>\n",
              "      <td>1</td>\n",
              "      <td>0</td>\n",
              "      <td>0</td>\n",
              "      <td>0</td>\n",
              "      <td>0</td>\n",
              "      <td>0</td>\n",
              "      <td>0</td>\n",
              "      <td>0</td>\n",
              "      <td>0</td>\n",
              "      <td>0</td>\n",
              "      <td>0</td>\n",
              "      <td>0</td>\n",
              "      <td>1</td>\n",
              "      <td>0</td>\n",
              "      <td>1</td>\n",
              "      <td>0</td>\n",
              "      <td>0</td>\n",
              "      <td>0</td>\n",
              "      <td>1</td>\n",
              "      <td>0</td>\n",
              "      <td>0</td>\n",
              "      <td>0</td>\n",
              "      <td>0</td>\n",
              "      <td>0</td>\n",
              "      <td>0</td>\n",
              "      <td>0</td>\n",
              "      <td>1</td>\n",
              "      <td>0</td>\n",
              "      <td>0</td>\n",
              "      <td>0</td>\n",
              "      <td>0</td>\n",
              "      <td>0</td>\n",
              "      <td>1</td>\n",
              "    </tr>\n",
              "    <tr>\n",
              "      <th>4</th>\n",
              "      <td>33</td>\n",
              "      <td>unknown</td>\n",
              "      <td>single</td>\n",
              "      <td>unknown</td>\n",
              "      <td>0</td>\n",
              "      <td>1</td>\n",
              "      <td>0</td>\n",
              "      <td>0</td>\n",
              "      <td>unknown</td>\n",
              "      <td>5</td>\n",
              "      <td>may</td>\n",
              "      <td>198</td>\n",
              "      <td>1</td>\n",
              "      <td>-1</td>\n",
              "      <td>0.0</td>\n",
              "      <td>unknown</td>\n",
              "      <td>0</td>\n",
              "      <td>1</td>\n",
              "      <td>1</td>\n",
              "      <td>0</td>\n",
              "      <td>0</td>\n",
              "      <td>0</td>\n",
              "      <td>0</td>\n",
              "      <td>0</td>\n",
              "      <td>0</td>\n",
              "      <td>0</td>\n",
              "      <td>0</td>\n",
              "      <td>0</td>\n",
              "      <td>0</td>\n",
              "      <td>0</td>\n",
              "      <td>0</td>\n",
              "      <td>0</td>\n",
              "      <td>1</td>\n",
              "      <td>0</td>\n",
              "      <td>1</td>\n",
              "      <td>0</td>\n",
              "      <td>0</td>\n",
              "      <td>1</td>\n",
              "      <td>0</td>\n",
              "      <td>1</td>\n",
              "      <td>0</td>\n",
              "      <td>0</td>\n",
              "      <td>0</td>\n",
              "      <td>0</td>\n",
              "      <td>0</td>\n",
              "      <td>0</td>\n",
              "      <td>0</td>\n",
              "      <td>1</td>\n",
              "      <td>0</td>\n",
              "      <td>0</td>\n",
              "      <td>0</td>\n",
              "      <td>0</td>\n",
              "      <td>0</td>\n",
              "      <td>1</td>\n",
              "    </tr>\n",
              "  </tbody>\n",
              "</table>\n",
              "</div>"
            ],
            "text/plain": [
              "   age           job  ... poutcome_success poutcome_unknown\n",
              "0   58    management  ...                0                1\n",
              "1   44    technician  ...                0                1\n",
              "2   33  entrepreneur  ...                0                1\n",
              "3   47   blue-collar  ...                0                1\n",
              "4   33       unknown  ...                0                1\n",
              "\n",
              "[5 rows x 54 columns]"
            ]
          },
          "metadata": {
            "tags": []
          },
          "execution_count": 246
        }
      ]
    },
    {
      "cell_type": "markdown",
      "metadata": {
        "id": "JJ2FlitV_PqQ"
      },
      "source": [
        "#**Lựa chọn các đặt trưng quan trọng**"
      ]
    },
    {
      "cell_type": "markdown",
      "metadata": {
        "id": "-Ii2vo7oOCUB"
      },
      "source": [
        "###**Một số chức năng trợ giúp để xây dựng và đánh giá các mô hình**"
      ]
    },
    {
      "cell_type": "code",
      "metadata": {
        "id": "arci0tVadhkU"
      },
      "source": [
        "def drawheatmap(df):\n",
        "    '''Builds the heat map for the given data'''\n",
        "    f, ax = plt.subplots(figsize=(15, 15))\n",
        "    sns.heatmap(df.corr(method='spearman'), annot=False, cmap='coolwarm')\n",
        "    \n",
        "def drawhist(df,feature):\n",
        "    '''Draws an histogram for a feature in a data frame (df)'''\n",
        "    plt.hist(df[feature])\n",
        "\n",
        "def functionreplace(df,fea,val1,val2):\n",
        "    '''Replaces value (val1) with value (val2) in the data frame (df) for a feature (fea)'''\n",
        "    df[fea].replace(val1,val2)\n",
        "    return df\n",
        "\n",
        "def drawbarplot(df,x,y):\n",
        "    '''Draws a bar plot for a given feature x and y in a data frame'''\n",
        "    sns.barplot(x=x, y=y, data=df)"
      ],
      "execution_count": 24,
      "outputs": []
    },
    {
      "cell_type": "code",
      "metadata": {
        "id": "2pXdc-0PTX0B"
      },
      "source": [
        "def getmeanauc(aucs,model):\n",
        "    ''' Calculates the mean AUC for all the cross-validated samples and computes the value of C (Regularization Parameter) \n",
        "    for which max mean auc is obtained'''\n",
        "    #Initialize empty array to hold mean AUC values.\n",
        "    meanauc = []\n",
        "    maxmean = 0 #Initial value for maximum mean AUC\n",
        "    models_with_1_param = ['Logistic_Regression' , 'Ada_Boost']\n",
        "    models_with_2_params = ['Decision_Tree' , 'Random_Forest', 'Grad_Boost']\n",
        "    for c in aucs: #For loop to append AUC value to meanauc array.\n",
        "        meanauc.append(np.mean(aucs[c]))\n",
        "        if maxmean < np.mean(aucs[c]):\n",
        "            maxmean = np.mean(aucs[c]) #Adjust value of maxmean\n",
        "            cval = c\n",
        "    if model in models_with_1_param:\n",
        "        print(\"C value for max auc is: \",cval)\n",
        "        print(\"Max Mean Auc corresponding to the optimal value of C = \", maxmean)\n",
        "        return meanauc,cval\n",
        "    if model in models_with_2_params:\n",
        "        listSL=cval.split('L')\n",
        "        splitval=int(listSL[0]) #Stores minimum split value for max AUC\n",
        "        leafval=int(listSL[1]) #Stores minimum leaf value for max AUC\n",
        "        print(\"min_sample_split value for max auc is:\",splitval)\n",
        "        print(\"min_sample_leaf value for max auc is:\",leafval)\n",
        "        print(\"Max mean AUC corresponding to optimal leaf and split value = \",maxmean)\n",
        "        return meanauc,splitval,leafval\n",
        "\n",
        "def plot_mean_auc_LR(aucs,cs, label):\n",
        "    '''Plots different values of mean auc versus the hyperparameter C'''\n",
        "    plt.plot(np.log10(cs),aucs, label = label )\n",
        "    plt.xlabel(\"C (Regularization Parameter)\")\n",
        "    plt.ylabel(\"Mean AUC\")\n",
        "    plt.legend()\n",
        "        \n",
        "def plotfeatureimportances(train, importance):\n",
        "    '''Plots feature importance in a sorted order and shows the most significant variables at the top'''\n",
        "    X = list(train.columns)\n",
        "    X.remove('y_yes')\n",
        "    feature_importance_df = pd.DataFrame(data = importance, index = X, columns=['coefficient_values'])\n",
        "    feature_importance_df['sort'] = feature_importance_df.coefficient_values.abs()\n",
        "    sorted_feature_imp_df = feature_importance_df.sort_values(by='sort', ascending=False).drop('sort', axis=1)\n",
        "    fig, ax = plt.subplots()\n",
        "    fig.set_size_inches(10, 15)\n",
        "    sns.barplot(np.array(sorted_feature_imp_df.coefficient_values), np.array(sorted_feature_imp_df.index.values))\n",
        "    plt.title('Feature Importances')\n",
        "    plt.xlabel('Coefficients')\n",
        "    plt.ylabel('Feature Names')\n",
        "    \n",
        "def plotfeatureimp(fl,col):\n",
        "    '''Plots the feature importance of all the independent variables in the model'''\n",
        "    f=plt.figure(figsize=(10,15))\n",
        "    plt.barh(range(len(fl)),fl)\n",
        "    plt.yticks(range(len(col[:-1])),col[:-1])\n",
        "    \n",
        "def plotAUCDTRF(aucs,leafs,splits):\n",
        "    '''Plots AUC for each value of Leaf and Split combination'''\n",
        "    for i in range(len(splits)):\n",
        "        plt.plot(leafs,aucs[len(leafs)*i:len(leafs)*i+len(leafs)], label = 'Split value= ' + str(splits[i]))\n",
        "    plt.legend()\n",
        "    plt.xlabel('Leaf Values')\n",
        "    plt.ylabel('Mean AUC')\n",
        "    \n",
        "def plot_mean_auc_Ada_Boost(aucs, estimators, label):\n",
        "    '''Plots different values of mean auc versus the Estimators for AdaBoosting'''\n",
        "    plt.plot(estimators,aucs, label = label )\n",
        "    plt.xlabel(\"Estimators\")\n",
        "    plt.ylabel(\"Mean AUC\")\n",
        "    plt.legend()\n",
        "        "
      ],
      "execution_count": 25,
      "outputs": []
    },
    {
      "cell_type": "code",
      "metadata": {
        "id": "km5uXQY4CC-Y"
      },
      "source": [
        "features_dropped = ['education_un', 'job_un', 'housing_un', 'loan_un','job', 'marital', 'education', 'contact','month', 'poutcome']\n",
        "data_clean = data.drop(features_dropped, axis = 1)"
      ],
      "execution_count": 26,
      "outputs": []
    },
    {
      "cell_type": "code",
      "metadata": {
        "colab": {
          "base_uri": "https://localhost:8080/",
          "height": 258
        },
        "id": "Eaqmd32dCt_x",
        "outputId": "2357905e-ef62-4f6f-a411-89e786d6abb7"
      },
      "source": [
        "print(data_clean.shape)\n",
        "data_clean.head()"
      ],
      "execution_count": null,
      "outputs": [
        {
          "output_type": "stream",
          "text": [
            "(45211, 44)\n"
          ],
          "name": "stdout"
        },
        {
          "output_type": "execute_result",
          "data": {
            "text/html": [
              "<div>\n",
              "<style scoped>\n",
              "    .dataframe tbody tr th:only-of-type {\n",
              "        vertical-align: middle;\n",
              "    }\n",
              "\n",
              "    .dataframe tbody tr th {\n",
              "        vertical-align: top;\n",
              "    }\n",
              "\n",
              "    .dataframe thead th {\n",
              "        text-align: right;\n",
              "    }\n",
              "</style>\n",
              "<table border=\"1\" class=\"dataframe\">\n",
              "  <thead>\n",
              "    <tr style=\"text-align: right;\">\n",
              "      <th></th>\n",
              "      <th>age</th>\n",
              "      <th>default</th>\n",
              "      <th>balance</th>\n",
              "      <th>housing</th>\n",
              "      <th>loan</th>\n",
              "      <th>day</th>\n",
              "      <th>duration</th>\n",
              "      <th>campaign</th>\n",
              "      <th>pdays</th>\n",
              "      <th>previous</th>\n",
              "      <th>y</th>\n",
              "      <th>job_blue-collar</th>\n",
              "      <th>job_entrepreneur</th>\n",
              "      <th>job_housemaid</th>\n",
              "      <th>job_management</th>\n",
              "      <th>job_retired</th>\n",
              "      <th>job_self-employed</th>\n",
              "      <th>job_services</th>\n",
              "      <th>job_student</th>\n",
              "      <th>job_technician</th>\n",
              "      <th>job_techniciant</th>\n",
              "      <th>job_unemployed</th>\n",
              "      <th>job_unknown</th>\n",
              "      <th>marital_married</th>\n",
              "      <th>marital_single</th>\n",
              "      <th>education_secondary</th>\n",
              "      <th>education_tertiary</th>\n",
              "      <th>education_unknown</th>\n",
              "      <th>contact_telephone</th>\n",
              "      <th>contact_unknown</th>\n",
              "      <th>month_aug</th>\n",
              "      <th>month_dec</th>\n",
              "      <th>month_feb</th>\n",
              "      <th>month_jan</th>\n",
              "      <th>month_jul</th>\n",
              "      <th>month_jun</th>\n",
              "      <th>month_mar</th>\n",
              "      <th>month_may</th>\n",
              "      <th>month_nov</th>\n",
              "      <th>month_oct</th>\n",
              "      <th>month_sep</th>\n",
              "      <th>poutcome_other</th>\n",
              "      <th>poutcome_success</th>\n",
              "      <th>poutcome_unknown</th>\n",
              "    </tr>\n",
              "  </thead>\n",
              "  <tbody>\n",
              "    <tr>\n",
              "      <th>0</th>\n",
              "      <td>58</td>\n",
              "      <td>0</td>\n",
              "      <td>2143</td>\n",
              "      <td>1</td>\n",
              "      <td>0</td>\n",
              "      <td>5</td>\n",
              "      <td>261</td>\n",
              "      <td>1</td>\n",
              "      <td>-1</td>\n",
              "      <td>0.0</td>\n",
              "      <td>0</td>\n",
              "      <td>0</td>\n",
              "      <td>0</td>\n",
              "      <td>0</td>\n",
              "      <td>1</td>\n",
              "      <td>0</td>\n",
              "      <td>0</td>\n",
              "      <td>0</td>\n",
              "      <td>0</td>\n",
              "      <td>0</td>\n",
              "      <td>0</td>\n",
              "      <td>0</td>\n",
              "      <td>0</td>\n",
              "      <td>1</td>\n",
              "      <td>0</td>\n",
              "      <td>0</td>\n",
              "      <td>1</td>\n",
              "      <td>0</td>\n",
              "      <td>0</td>\n",
              "      <td>1</td>\n",
              "      <td>0</td>\n",
              "      <td>0</td>\n",
              "      <td>0</td>\n",
              "      <td>0</td>\n",
              "      <td>0</td>\n",
              "      <td>0</td>\n",
              "      <td>0</td>\n",
              "      <td>1</td>\n",
              "      <td>0</td>\n",
              "      <td>0</td>\n",
              "      <td>0</td>\n",
              "      <td>0</td>\n",
              "      <td>0</td>\n",
              "      <td>1</td>\n",
              "    </tr>\n",
              "    <tr>\n",
              "      <th>1</th>\n",
              "      <td>44</td>\n",
              "      <td>0</td>\n",
              "      <td>29</td>\n",
              "      <td>1</td>\n",
              "      <td>0</td>\n",
              "      <td>5</td>\n",
              "      <td>151</td>\n",
              "      <td>1</td>\n",
              "      <td>-1</td>\n",
              "      <td>0.0</td>\n",
              "      <td>0</td>\n",
              "      <td>0</td>\n",
              "      <td>0</td>\n",
              "      <td>0</td>\n",
              "      <td>0</td>\n",
              "      <td>0</td>\n",
              "      <td>0</td>\n",
              "      <td>0</td>\n",
              "      <td>0</td>\n",
              "      <td>1</td>\n",
              "      <td>0</td>\n",
              "      <td>0</td>\n",
              "      <td>0</td>\n",
              "      <td>0</td>\n",
              "      <td>1</td>\n",
              "      <td>1</td>\n",
              "      <td>0</td>\n",
              "      <td>0</td>\n",
              "      <td>0</td>\n",
              "      <td>1</td>\n",
              "      <td>0</td>\n",
              "      <td>0</td>\n",
              "      <td>0</td>\n",
              "      <td>0</td>\n",
              "      <td>0</td>\n",
              "      <td>0</td>\n",
              "      <td>0</td>\n",
              "      <td>1</td>\n",
              "      <td>0</td>\n",
              "      <td>0</td>\n",
              "      <td>0</td>\n",
              "      <td>0</td>\n",
              "      <td>0</td>\n",
              "      <td>1</td>\n",
              "    </tr>\n",
              "    <tr>\n",
              "      <th>2</th>\n",
              "      <td>33</td>\n",
              "      <td>0</td>\n",
              "      <td>2</td>\n",
              "      <td>1</td>\n",
              "      <td>1</td>\n",
              "      <td>5</td>\n",
              "      <td>76</td>\n",
              "      <td>1</td>\n",
              "      <td>-1</td>\n",
              "      <td>0.0</td>\n",
              "      <td>0</td>\n",
              "      <td>0</td>\n",
              "      <td>1</td>\n",
              "      <td>0</td>\n",
              "      <td>0</td>\n",
              "      <td>0</td>\n",
              "      <td>0</td>\n",
              "      <td>0</td>\n",
              "      <td>0</td>\n",
              "      <td>0</td>\n",
              "      <td>0</td>\n",
              "      <td>0</td>\n",
              "      <td>0</td>\n",
              "      <td>1</td>\n",
              "      <td>0</td>\n",
              "      <td>1</td>\n",
              "      <td>0</td>\n",
              "      <td>0</td>\n",
              "      <td>0</td>\n",
              "      <td>1</td>\n",
              "      <td>0</td>\n",
              "      <td>0</td>\n",
              "      <td>0</td>\n",
              "      <td>0</td>\n",
              "      <td>0</td>\n",
              "      <td>0</td>\n",
              "      <td>0</td>\n",
              "      <td>1</td>\n",
              "      <td>0</td>\n",
              "      <td>0</td>\n",
              "      <td>0</td>\n",
              "      <td>0</td>\n",
              "      <td>0</td>\n",
              "      <td>1</td>\n",
              "    </tr>\n",
              "    <tr>\n",
              "      <th>3</th>\n",
              "      <td>47</td>\n",
              "      <td>0</td>\n",
              "      <td>1506</td>\n",
              "      <td>1</td>\n",
              "      <td>0</td>\n",
              "      <td>5</td>\n",
              "      <td>92</td>\n",
              "      <td>1</td>\n",
              "      <td>-1</td>\n",
              "      <td>0.0</td>\n",
              "      <td>0</td>\n",
              "      <td>1</td>\n",
              "      <td>0</td>\n",
              "      <td>0</td>\n",
              "      <td>0</td>\n",
              "      <td>0</td>\n",
              "      <td>0</td>\n",
              "      <td>0</td>\n",
              "      <td>0</td>\n",
              "      <td>0</td>\n",
              "      <td>0</td>\n",
              "      <td>0</td>\n",
              "      <td>0</td>\n",
              "      <td>1</td>\n",
              "      <td>0</td>\n",
              "      <td>1</td>\n",
              "      <td>0</td>\n",
              "      <td>0</td>\n",
              "      <td>0</td>\n",
              "      <td>1</td>\n",
              "      <td>0</td>\n",
              "      <td>0</td>\n",
              "      <td>0</td>\n",
              "      <td>0</td>\n",
              "      <td>0</td>\n",
              "      <td>0</td>\n",
              "      <td>0</td>\n",
              "      <td>1</td>\n",
              "      <td>0</td>\n",
              "      <td>0</td>\n",
              "      <td>0</td>\n",
              "      <td>0</td>\n",
              "      <td>0</td>\n",
              "      <td>1</td>\n",
              "    </tr>\n",
              "    <tr>\n",
              "      <th>4</th>\n",
              "      <td>33</td>\n",
              "      <td>0</td>\n",
              "      <td>1</td>\n",
              "      <td>0</td>\n",
              "      <td>0</td>\n",
              "      <td>5</td>\n",
              "      <td>198</td>\n",
              "      <td>1</td>\n",
              "      <td>-1</td>\n",
              "      <td>0.0</td>\n",
              "      <td>0</td>\n",
              "      <td>0</td>\n",
              "      <td>0</td>\n",
              "      <td>0</td>\n",
              "      <td>0</td>\n",
              "      <td>0</td>\n",
              "      <td>0</td>\n",
              "      <td>0</td>\n",
              "      <td>0</td>\n",
              "      <td>0</td>\n",
              "      <td>0</td>\n",
              "      <td>0</td>\n",
              "      <td>1</td>\n",
              "      <td>0</td>\n",
              "      <td>1</td>\n",
              "      <td>0</td>\n",
              "      <td>0</td>\n",
              "      <td>1</td>\n",
              "      <td>0</td>\n",
              "      <td>1</td>\n",
              "      <td>0</td>\n",
              "      <td>0</td>\n",
              "      <td>0</td>\n",
              "      <td>0</td>\n",
              "      <td>0</td>\n",
              "      <td>0</td>\n",
              "      <td>0</td>\n",
              "      <td>1</td>\n",
              "      <td>0</td>\n",
              "      <td>0</td>\n",
              "      <td>0</td>\n",
              "      <td>0</td>\n",
              "      <td>0</td>\n",
              "      <td>1</td>\n",
              "    </tr>\n",
              "  </tbody>\n",
              "</table>\n",
              "</div>"
            ],
            "text/plain": [
              "   age  default  balance  ...  poutcome_other  poutcome_success  poutcome_unknown\n",
              "0   58        0     2143  ...               0                 0                 1\n",
              "1   44        0       29  ...               0                 0                 1\n",
              "2   33        0        2  ...               0                 0                 1\n",
              "3   47        0     1506  ...               0                 0                 1\n",
              "4   33        0        1  ...               0                 0                 1\n",
              "\n",
              "[5 rows x 44 columns]"
            ]
          },
          "metadata": {
            "tags": []
          },
          "execution_count": 254
        }
      ]
    },
    {
      "cell_type": "code",
      "metadata": {
        "colab": {
          "base_uri": "https://localhost:8080/",
          "height": 984
        },
        "id": "ady8sbQrRdKI",
        "outputId": "485b9f8e-1d62-42d1-8a8b-7115e4a488f7"
      },
      "source": [
        "drawheatmap(data_clean)"
      ],
      "execution_count": null,
      "outputs": [
        {
          "output_type": "display_data",
          "data": {
            "image/png": "[encoded data removed]",
            "text/plain": [
              "<Figure size 1080x1080 with 2 Axes>"
            ]
          },
          "metadata": {
            "tags": [],
            "needs_background": "light"
          }
        }
      ]
    },
    {
      "cell_type": "markdown",
      "metadata": {
        "id": "wxKC8Pb5Rwi0"
      },
      "source": [
        "Từ bản đồ nhiệt ở trên, chúng ta có thể thấy rằng biến mục tiêu y có mối tương quan tốt với 'duration, poutcom_success, pdays, previous, month_mar, month_oct, month_sep, balance. Ta kỳ vọng rằng các biến độc lập này có ý nghĩa trong khi xây dựng mô hình."
      ]
    },
    {
      "cell_type": "markdown",
      "metadata": {
        "id": "npZmnRrm19-5"
      },
      "source": [
        "# **Xây dựng và đánh giá mô hình**"
      ]
    },
    {
      "cell_type": "markdown",
      "metadata": {
        "id": "vGQnOI_IVvnx"
      },
      "source": [
        "**Chia tập Train - Test**: Trước tiên, chúng tôi bắt đầu với việc chia nhỏ dữ liệu thành các tập train và test. Đối với tất cả các mô hình, xác thực chéo 27 lần sẽ được sử dụng.\n",
        "Đã sử dụng phân tầng (giữ nguyên phân phối mục tiêu) vì tập dữ liệu rất mất cân bằng. Việc phân chia train / test ngẫu nhiên có thể sẽ thay đổi phân test của biến mục tiêu khá nhiều."
      ]
    },
    {
      "cell_type": "code",
      "metadata": {
        "id": "D3z3Z94LAYjm"
      },
      "source": [
        "# spliting training and testing data\n",
        "\n",
        "X = data_clean.drop(['y'],axis=1).astype(np.float)\n",
        "y = data_clean['y'].astype(np.float)"
      ],
      "execution_count": 27,
      "outputs": []
    },
    {
      "cell_type": "code",
      "metadata": {
        "id": "DfXe3hjGAXEi"
      },
      "source": [
        "from sklearn.model_selection import train_test_split\n",
        "X_train, X_test, y_train, y_test = train_test_split(X,y,test_size=0.2,random_state=27)\n",
        "train, test = train_test_split(data_clean, train_size=0.8, stratify=data_clean.y.values, random_state=5)"
      ],
      "execution_count": 39,
      "outputs": []
    },
    {
      "cell_type": "markdown",
      "metadata": {
        "id": "rUJtVhmQU4JK"
      },
      "source": [
        "##**Scale các đặt trưng**"
      ]
    },
    {
      "cell_type": "code",
      "metadata": {
        "id": "lNsXdfIK8lHk"
      },
      "source": [
        "# data normalization with sklearn\n",
        "# copy of datasets\n",
        "X_train_norm = X_train.copy()\n",
        "X_test_norm = X_test.copy()\n",
        "\n",
        "# numerical features\n",
        "num_cols = ['age','balance','day','duration','campaign', 'pdays', 'previous']\n",
        "# apply standardization on numerical features\n",
        "for i in num_cols:\n",
        "    # fit scaler on training data\n",
        "    norm = MinMaxScaler().fit(X_train_norm[[i]])\n",
        "    # transform the training data column\n",
        "    X_train_norm[i] = norm.transform(X_train_norm[[i]])\n",
        "    # transform the testing data column\n",
        "    X_test_norm[i] = norm.transform(X_test_norm[[i]]) "
      ],
      "execution_count": 31,
      "outputs": []
    },
    {
      "cell_type": "code",
      "metadata": {
        "colab": {
          "base_uri": "https://localhost:8080/",
          "height": 374
        },
        "id": "pJn4oY2O9buC",
        "outputId": "a2c2f981-01b3-4781-a7ad-36a72eaa21ce"
      },
      "source": [
        "import seaborn as sns\n",
        "from matplotlib import pyplot as plt\n",
        "\n",
        "plt.figure(figsize=(15,8))\n",
        "ax = sns.boxplot(data=data[num_cols], orient=\"v\", palette=\"Set2\")"
      ],
      "execution_count": 32,
      "outputs": [
        {
          "output_type": "display_data",
          "data": {
            "image/png": "[encoded data removed]",
            "text/plain": [
              "<Figure size 1080x576 with 1 Axes>"
            ]
          },
          "metadata": {
            "tags": [],
            "needs_background": "light"
          }
        }
      ]
    },
    {
      "cell_type": "code",
      "metadata": {
        "colab": {
          "base_uri": "https://localhost:8080/",
          "height": 383
        },
        "id": "UAiXsTwUA07H",
        "outputId": "5e5dcd98-a296-489a-d439-4c12bc695a75"
      },
      "source": [
        "plt.figure(figsize=(15,8))\n",
        "ax = sns.boxplot(data=X_train_norm[num_cols].astype(np.float), orient=\"v\", palette=\"Set2\")"
      ],
      "execution_count": 33,
      "outputs": [
        {
          "output_type": "display_data",
          "data": {
            "image/png": "[encoded data removed]",
            "text/plain": [
              "<Figure size 1080x576 with 1 Axes>"
            ]
          },
          "metadata": {
            "tags": [],
            "needs_background": "light"
          }
        }
      ]
    },
    {
      "cell_type": "markdown",
      "metadata": {
        "id": "PhtnJDJiQS4R"
      },
      "source": [
        "## **Mô hình hồi quy Logistic**\n",
        "Ở đây, chúng tôi xây dựng mô hình hồi quy logistic và đánh giá nó bằng cách sử dụng đường cong ROC và các giá trị AUC. Vì dữ liệu có các đặt trưng với positive và negative bị mất cân bằng rất nhiều, đường cong ROC và các giá trị AUC là các thước đo đánh giá thích hợp so với độ chính xác. Đối với tất cả các mô hình trong tương lai, đường cong ROC và giá trị AUC được sử dụng làm thước đo đánh giá."
      ]
    },
    {
      "cell_type": "code",
      "metadata": {
        "id": "rkI4qTQVP9H0"
      },
      "source": [
        "from sklearn import metrics\n",
        "from sklearn.linear_model import LogisticRegression\n",
        "from sklearn.preprocessing import StandardScaler\n",
        "def LRmodel(train , validate , c, l_1 = False):\n",
        "    '''Fits the Logistic Regression Model on the training data set and calculates evaluation metrics on the validation set\n",
        "    with the regularization constant C'''\n",
        "    X=list(train.columns) #Create list of column labels from training data\n",
        "    Y='y_yes'\n",
        "    X.remove('y_yes')\n",
        "    scaler = StandardScaler().fit(train[X]) #Standardize features by removing the mean and scaling to unit variance\n",
        "    train_std = scaler.transform(train[X]) #Compute the mean and standard deviation on training set\n",
        "    validate_std = scaler.transform(validate[X])\n",
        "    xtrain = train_std\n",
        "    ytrain = train[Y]\n",
        "    xval = validate_std\n",
        "    yval = validate[Y]\n",
        "    if l_1:\n",
        "        logreg = LogisticRegression(C = c, penalty= 'l1', tol=0.01, solver='saga') #Apply logistic regression on L1 penalty\n",
        "    else:\n",
        "        logreg = LogisticRegression(C=c, penalty='l2', tol=0.01, solver='saga')\n",
        "    logreg.fit(xtrain,ytrain)\n",
        "    pred_proba_val = logreg.predict_proba(xval)[:,1]\n",
        "    auc = metrics.roc_auc_score(yval, pred_proba_val)\n",
        "    fpr, tpr, threshold = metrics.roc_curve(yval, pred_proba_val)\n",
        "    accuracy = metrics.accuracy_score(yval, logreg.predict(xval))\n",
        "    return auc,logreg.coef_, tpr, fpr, threshold, accuracy"
      ],
      "execution_count": null,
      "outputs": []
    },
    {
      "cell_type": "markdown",
      "metadata": {
        "id": "f3AJvaqIQfNx"
      },
      "source": [
        "## **Cross-Validation và Điều chỉnh các siêu tham số cho Hồi quy Logistic**\n",
        "Việc điều chỉnh các mô hình được thực hiện một cách mô phỏng với Cross-Validation. Điều chỉnh về cơ bản được thực hiện để quyết định tham số chính quy tối ưu cho hồi quy logistic và SVM tuyến tính."
      ]
    },
    {
      "cell_type": "code",
      "metadata": {
        "id": "CLz9elbBQca-"
      },
      "source": [
        "from sklearn.model_selection import KFold\n",
        "from sklearn import metrics\n",
        "from sklearn import preprocessing\n",
        "\n",
        "def kfoldlr(dataset , k , cs, l1_penalty = False):\n",
        "    '''Performs kfold cross validation for the dataset and also searches for the optimal regularixation parameter '''\n",
        "    aucs = {}\n",
        "    kf = KFold(k,shuffle=False) #Provides indices to split data in train/test sets\n",
        "    for train_idx, vali_idx in kf.split(dataset): #For loop to extract and append AUC values to array from training data\n",
        "        cv_train,cv_validate=dataset.iloc[train_idx,:], dataset.iloc[vali_idx,:]\n",
        "        for c in cs:\n",
        "            auc, f_imp, tpr, fpr, threshold, accuracy = LRmodel(cv_train,cv_validate,c, l_1 = l1_penalty)\n",
        "            if c in aucs:\n",
        "                aucs[c].append(auc)\n",
        "            else:\n",
        "                aucs[c]=[]\n",
        "                aucs[c].append(auc)\n",
        "    return aucs"
      ],
      "execution_count": null,
      "outputs": []
    },
    {
      "cell_type": "code",
      "metadata": {
        "id": "mZ-5eZ6GQuIk"
      },
      "source": [
        "cs = np.logspace(-4,5,10)\n",
        "aucs_l2=kfoldlr(train , 5 , cs)\n",
        "aucs_l1=kfoldlr(train , 5 , cs, l1_penalty= True)"
      ],
      "execution_count": null,
      "outputs": []
    },
    {
      "cell_type": "markdown",
      "metadata": {
        "id": "trjSrN9RQ9BM"
      },
      "source": [
        "Các giá trị có thể có của C (tham số chính quy) được lấy từ 10 ^ −4 đến 10 ^ 5."
      ]
    },
    {
      "cell_type": "code",
      "metadata": {
        "colab": {
          "base_uri": "https://localhost:8080/"
        },
        "id": "3Va8AlWVQw9G",
        "outputId": "e9959d25-3015-407c-b7f9-b6d348feec0d"
      },
      "source": [
        "means_l2,cval_l2 = getmeanauc(aucs_l2,'Logistic_Regression')\n",
        "means_l1,cval_l1 = getmeanauc(aucs_l1,'Logistic_Regression')"
      ],
      "execution_count": null,
      "outputs": [
        {
          "output_type": "stream",
          "text": [
            "C value for max auc is:  0.01\n",
            "Max Mean Auc corresponding to the optimal value of C =  0.907303116528426\n",
            "C value for max auc is:  0.01\n",
            "Max Mean Auc corresponding to the optimal value of C =  0.9082031569755225\n"
          ],
          "name": "stdout"
        }
      ]
    },
    {
      "cell_type": "markdown",
      "metadata": {
        "id": "kdkiNKMaRonV"
      },
      "source": [
        "Hồi quy Logistic đang hoạt động tốt và từ lần chạy trên, hiển nhiên rằng LR đang hoạt động tốt hơn với tham số chính quy L1 so với L2."
      ]
    },
    {
      "cell_type": "code",
      "metadata": {
        "colab": {
          "base_uri": "https://localhost:8080/",
          "height": 279
        },
        "id": "y-87_PgsRvTu",
        "outputId": "08414024-d5f3-446b-ff27-3a7e30abc2f6"
      },
      "source": [
        "plot_mean_auc_LR(means_l2,cs, label = 'L2')\n",
        "plot_mean_auc_LR(means_l1,cs, label = 'L1')"
      ],
      "execution_count": null,
      "outputs": [
        {
          "output_type": "display_data",
          "data": {
            "image/png": "[encoded data removed]",
            "text/plain": [
              "<Figure size 432x288 with 1 Axes>"
            ]
          },
          "metadata": {
            "tags": [],
            "needs_background": "light"
          }
        }
      ]
    },
    {
      "cell_type": "markdown",
      "metadata": {
        "id": "tcV2c1i1SnSf"
      },
      "source": [
        "##**Mô hình Cây quyết định**"
      ]
    },
    {
      "cell_type": "code",
      "metadata": {
        "id": "KPRtZztFR3gT"
      },
      "source": [
        "from sklearn.tree import DecisionTreeClassifier\n",
        "from sklearn import metrics\n",
        "def DTmodel(train,validation,leaf=1,split=2):\n",
        "    '''Decision Tree model to fit the train set to decision tree and predict AUC on test/validation set'''\n",
        "    X=list(train.columns) #Create list of column labels from training data\n",
        "    Y='y_yes'\n",
        "    X.remove('y_yes')\n",
        "    xtrain=train[X] \n",
        "    ytrain=train[Y]\n",
        "    xval=validation[X]\n",
        "    yval=validation[Y]\n",
        "    \n",
        "    #Runs sklearn's decision tree algorithm on the training data with min leaf size 1 and split size 2\n",
        "    dt=DecisionTreeClassifier(criterion='entropy',min_samples_leaf=leaf,min_samples_split=split) \n",
        "    \n",
        "    #Train the model\n",
        "    dt.fit(xtrain,ytrain)\n",
        "    predict_proba_val=dt.predict_proba(xval)[:,1] #Predict class probabilities of input validation data\n",
        "    auc=metrics.roc_auc_score(yval,predict_proba_val) #Compute ROC AUC from prediction scores\n",
        "    fpr,tpr,threshold=metrics.roc_curve(yval,predict_proba_val) #Compute ROC\n",
        "    accuracy=metrics.accuracy_score(yval,dt.predict(xval)) #Compute subset accuracy classification score\n",
        "    \n",
        "    #Feature importances. The higher the score, the more important the feature. \n",
        "    #Computed as the normalized total reduction of the criterion brought by that feature.\n",
        "    imp=dt.feature_importances_ \n",
        "    return auc,imp,tpr,fpr,threshold,accuracy"
      ],
      "execution_count": null,
      "outputs": []
    },
    {
      "cell_type": "markdown",
      "metadata": {
        "id": "gqM6h-5JStPz"
      },
      "source": [
        "##**Cross Validation and điều chỉnh siêu tham số cho cây quyết định**"
      ]
    },
    {
      "cell_type": "code",
      "metadata": {
        "id": "o0UHuwYHSq1_"
      },
      "source": [
        "from sklearn.model_selection import KFold\n",
        "from sklearn import metrics\n",
        "from sklearn import preprocessing\n",
        "\n",
        "def kfoldDTRF(dataset, k,split,leaf,model):\n",
        "    '''K-fold validation function for Decision tree and Random Forest. K=5, hence input data set is divided \n",
        "    into 5 datasets out of which 4 of them will be used to fit model and one to validate the model in each iteration '''\n",
        "    aucs={}\n",
        "    kf=KFold(k,shuffle=False) #Provides indices to split data in train/test sets\n",
        "    for train_idx, vali_idx in kf.split(dataset): \n",
        "        cv_train,cv_validate=dataset.iloc[train_idx,:], dataset.iloc[vali_idx,:]\n",
        "        for sp in split:\n",
        "            for lf in leaf:\n",
        "                if model=='DT':\n",
        "                    #Run decision tree function above based on user input\n",
        "                    core,fimp,tpr,fpr,threshold,accuracy=DTmodel(cv_train,cv_validate,lf,sp)\n",
        "                if model=='RF':\n",
        "                    #Run random forest function below based on user input\n",
        "                    core,fimp,tpr,fpr,threshold,accuracy=randomforrest(cv_train,cv_validate,lf,sp)\n",
        "                \n",
        "                if str(sp)+\"L\"+str(lf) in aucs:\n",
        "                    aucs[str(sp)+\"L\"+str(lf)].append(core)\n",
        "                else:\n",
        "                    aucs[str(sp)+\"L\"+str(lf)]=[]\n",
        "                    aucs[str(sp)+\"L\"+str(lf)].append(core)\n",
        "    return aucs"
      ],
      "execution_count": null,
      "outputs": []
    },
    {
      "cell_type": "markdown",
      "metadata": {
        "id": "_FkzTgmXSy13"
      },
      "source": [
        "min_sample_split_value và min_sample_leaf là siêu tham số cho Cây Quyết định và Random Forest cho biết kích thước chia nhỏ nhất và kích thước lá tối thiểu. Phạm vi giá trị được thực hiện cho phần tách là [10, 2000] và phạm vi cho phần lá là [5, 200]. Do đó, có 100 sự kết hợp của các giá trị chia và lá. Đối với mỗi kết hợp này, AUC được tính toán."
      ]
    },
    {
      "cell_type": "code",
      "metadata": {
        "id": "cZPZ1TS5SxkS"
      },
      "source": [
        "split = np.geomspace(10,2000,num=10,dtype=int)\n",
        "leaf = np.geomspace(5,200,num=10,dtype=int)\n",
        "aucsdt=kfoldDTRF(train,5,split,leaf,'DT')"
      ],
      "execution_count": null,
      "outputs": []
    },
    {
      "cell_type": "code",
      "metadata": {
        "colab": {
          "base_uri": "https://localhost:8080/",
          "height": 350
        },
        "id": "bOyUJ0IoS7OX",
        "outputId": "9dbdce0b-2b86-47db-9bb2-c2689351a234"
      },
      "source": [
        "meanauc,splitval,leafval=getmeanauc(aucsdt,'Decision_Tree')\n",
        "plotAUCDTRF(meanauc,leaf,split)"
      ],
      "execution_count": null,
      "outputs": [
        {
          "output_type": "stream",
          "text": [
            "min_sample_split value for max auc is: 341\n",
            "min_sample_leaf value for max auc is: 17\n",
            "Max mean AUC corresponding to optimal leaf and split value =  0.9122967654100741\n"
          ],
          "name": "stdout"
        },
        {
          "output_type": "display_data",
          "data": {
            "image/png": "[encoded data removed]",
            "text/plain": [
              "<Figure size 432x288 with 1 Axes>"
            ]
          },
          "metadata": {
            "tags": [],
            "needs_background": "light"
          }
        }
      ]
    },
    {
      "cell_type": "markdown",
      "metadata": {
        "id": "FYj6cLq-TBEm"
      },
      "source": [
        "Rõ ràng là Cây quyết định đang hoạt động tốt hơn một chút so với Hồi quy logistic."
      ]
    },
    {
      "cell_type": "markdown",
      "metadata": {
        "id": "atNGwygjTLQp"
      },
      "source": [
        "##**Mô hình Random Forest**"
      ]
    },
    {
      "cell_type": "code",
      "metadata": {
        "id": "FGOx-BNAS80G"
      },
      "source": [
        "from sklearn.ensemble import RandomForestClassifier\n",
        "\n",
        "def randomforrest(train,validation,leaf=1,split=2):\n",
        "    '''Random Forest model to fit the training set to random forest and compute AUC on test/validation set'''\n",
        "    X=list(train.columns) #Provides indices to split data in train/test sets\n",
        "    Y='y_yes'\n",
        "    X.remove('y_yes')\n",
        "    xtrain=train[X]\n",
        "    ytrain=train[Y]\n",
        "    xval=validation[X]\n",
        "    yval=validation[Y]\n",
        "    \n",
        "    #Run sklearn's random forest algorithm with 128 trees and a minimum split size of 2 and minimum leaf size 1\n",
        "    random_forest = RandomForestClassifier(n_estimators=128,min_samples_split=split,min_samples_leaf=leaf)\n",
        "    \n",
        "    #Train the model\n",
        "    random_forest.fit(xtrain,ytrain)\n",
        "    \n",
        "    #Predict target values\n",
        "    Y_pred = random_forest.predict(xval)\n",
        "    \n",
        "    #Predict class probabilities of input validation data\n",
        "    proba_val=random_forest.predict_proba(xval)[:,1]\n",
        "    \n",
        "    #Compute ROC\n",
        "    fpr, tpr, thresholds=metrics.roc_curve(yval,proba_val)\n",
        "    \n",
        "    #Compute ROC AUC scores from prediction values\n",
        "    score=metrics.roc_auc_score(yval,proba_val)\n",
        "    \n",
        "    #Feature importances. The higher the score, the more important the feature. \n",
        "    #Computed as the normalized total reduction of the criterion brought by that feature.\n",
        "    importance=random_forest.feature_importances_\n",
        "    accuracy=metrics.accuracy_score(yval,random_forest.predict(xval))\n",
        "    return score,importance,tpr,fpr,thresholds,accuracy"
      ],
      "execution_count": null,
      "outputs": []
    },
    {
      "cell_type": "markdown",
      "metadata": {
        "id": "Q4GrNvkyTZU9"
      },
      "source": [
        "##**Cross Validation và điều chỉnh siêu tham số cho Random Forest**\n",
        "min_sample_split_value và min_sample_leaf là siêu tham số cho rừng ngẫu nhiên cho biết kích thước chia nhỏ nhất và kích thước lá tối thiểu. Phạm vi giá trị được lấy để tách là [10,2000] và phạm vi cho lá là [5,200]. Do đó, có 100 sự kết hợp của các giá trị chia và lá. Đối với mỗi kết hợp này, AUC được tính toán."
      ]
    },
    {
      "cell_type": "code",
      "metadata": {
        "id": "VhGES7ZwTVRW"
      },
      "source": [
        "RF_split = np.geomspace(10,2000,num=10,dtype=int)\n",
        "RF_leaf = np.geomspace(5,200,num=10,dtype=int)\n",
        "\n",
        "RF_auc=kfoldDTRF(train,5,RF_split,RF_leaf,'RF')"
      ],
      "execution_count": null,
      "outputs": []
    },
    {
      "cell_type": "code",
      "metadata": {
        "colab": {
          "base_uri": "https://localhost:8080/",
          "height": 350
        },
        "id": "c_WGoD0XTm3L",
        "outputId": "59cf859f-0c31-4937-afd0-75d737f5cec7"
      },
      "source": [
        "RF_aucs,RF_splitval,RF_leafval=getmeanauc(RF_auc,'Random_Forest')\n",
        "plotAUCDTRF(RF_aucs,RF_leaf,RF_split)"
      ],
      "execution_count": null,
      "outputs": [
        {
          "output_type": "stream",
          "text": [
            "min_sample_split value for max auc is: 10\n",
            "min_sample_leaf value for max auc is: 5\n",
            "Max mean AUC corresponding to optimal leaf and split value =  0.9294690047739664\n"
          ],
          "name": "stdout"
        },
        {
          "output_type": "display_data",
          "data": {
            "image/png": "[encoded data removed]",
            "text/plain": [
              "<Figure size 432x288 with 1 Axes>"
            ]
          },
          "metadata": {
            "tags": [],
            "needs_background": "light"
          }
        }
      ]
    },
    {
      "cell_type": "markdown",
      "metadata": {
        "id": "nFSFJqqI0UwI"
      },
      "source": [
        "Ta thấy là Random Forest đang hoạt động tốt hơn cả hai mô hình Hồi quy logistic và Cây quyết định."
      ]
    },
    {
      "cell_type": "markdown",
      "metadata": {
        "id": "Rj19fTYt4uYt"
      },
      "source": [
        "Từ đây, ta sử dụng mô hình Random Forest để tính toán đưa ra những quyết định cho chiến dịch về đăng ký tài khoản tiền gửi có kỳ hạn của ngân hàng\n",
        ".\n"
      ]
    }
  ]
}